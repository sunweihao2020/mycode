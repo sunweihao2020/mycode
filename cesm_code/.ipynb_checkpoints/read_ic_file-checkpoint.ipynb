{
 "cells": [
  {
   "cell_type": "markdown",
   "id": "e3153b22-c8e3-4e9e-86bf-8e5db08a5c32",
   "metadata": {},
   "source": [
    "## 2022-6-4\n",
    "## 本代码阅读海洋的initial condition看看"
   ]
  },
  {
   "cell_type": "code",
   "execution_count": null,
   "id": "cad82614-df7b-4c84-b763-9c4e0e9cb562",
   "metadata": {},
   "outputs": [],
   "source": [
    "import numpy as np\n",
    "import math"
   ]
  },
  {
   "cell_type": "code",
   "execution_count": null,
   "id": "fbd21c27-2d87-4fa4-926b-676e1c91359e",
   "metadata": {},
   "outputs": [],
   "source": [
    "data  =  np.fromfile(\"/home/sun/data/cesm/ts_PHC2_jan_ic_gx1v6_20090205.ieeer8\", dtype='>f8')"
   ]
  },
  {
   "cell_type": "code",
   "execution_count": null,
   "id": "e9f34908-4388-41ba-a570-793b09326170",
   "metadata": {},
   "outputs": [],
   "source": [
    "import xarray as xr\n",
    "bathy  =  np.fromfile(\"/home/sun/data/cesm/topography_20161215.ieeei4\",dtype='>i4')\n",
    "f1     =  xr.open_dataset('/home/sun/data/cesm/gx1v7_151008.nc')"
   ]
  },
  {
   "cell_type": "code",
   "execution_count": null,
   "id": "f8cd7cb7-8e41-4fbd-b607-a54aee5010da",
   "metadata": {},
   "outputs": [],
   "source": [
    "ts     =  data.reshape((2,60,384,320))\n",
    "bathy2 =  bathy.reshape((384,320))\n",
    "lat    =  f1.grid_center_lat.data.reshape((384,320))\n",
    "lon    =  f1.grid_center_lon.data.reshape((384,320))"
   ]
  },
  {
   "cell_type": "code",
   "execution_count": null,
   "id": "b844799e-dcec-4a9c-ab37-fe5bef082cdb",
   "metadata": {},
   "outputs": [],
   "source": [
    "lat_extent1  =  [8,23]\n",
    "lon_extent1  =  [65,90]\n",
    "\n",
    "\n",
    "new_lat    =  f1.grid_center_lat.data\n",
    "new_lon    =  f1.grid_center_lon.data\n",
    "import math\n",
    "\n",
    "for n in range(2):\n",
    "    for x in range(384):\n",
    "        for y in range(320):\n",
    "            if (lat[x,y] > math.radians(lat_extent1[0]) and lat[x,y] < math.radians(lat_extent1[1])) and (lon[x,y] > math.radians(lon_extent1[0]) and lon[x,y] < math.radians(lon_extent1[1])):\n",
    "                bathy2[x,y] =  1\n",
    "                ts[n,0,x,y] =  30"
   ]
  },
  {
   "cell_type": "code",
   "execution_count": null,
   "id": "baa552c2-bd82-4158-b377-fac3d578ae48",
   "metadata": {},
   "outputs": [],
   "source": [
    "result_bathy  =  bathy2.reshape(bathy.shape)\n",
    "result_ts     =  ts.reshape(data.shape)"
   ]
  },
  {
   "cell_type": "code",
   "execution_count": null,
   "id": "bc43be09-5bc7-451d-9528-9ba8e1e02b7e",
   "metadata": {},
   "outputs": [],
   "source": [
    "result_bathy.tofile(\"/home/sun/data/cesm/topography_220605_indian_2.ieeei4\")\n",
    "result_ts.tofile(\"/home/sun/data/cesm/ts_noindian_220605.ieeer8\")"
   ]
  }
 ],
 "metadata": {
  "kernelspec": {
   "display_name": "Python 3 (ipykernel)",
   "language": "python",
   "name": "python3"
  },
  "language_info": {
   "codemirror_mode": {
    "name": "ipython",
    "version": 3
   },
   "file_extension": ".py",
   "mimetype": "text/x-python",
   "name": "python",
   "nbconvert_exporter": "python",
   "pygments_lexer": "ipython3",
   "version": "3.9.12"
  }
 },
 "nbformat": 4,
 "nbformat_minor": 5
}
