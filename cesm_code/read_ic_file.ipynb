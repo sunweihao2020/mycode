{
 "cells": [
  {
   "cell_type": "markdown",
   "id": "e3153b22-c8e3-4e9e-86bf-8e5db08a5c32",
   "metadata": {},
   "source": [
    "## 2022-6-4\n",
    "## 本代码阅读海洋的initial condition看看"
   ]
  },
  {
   "cell_type": "code",
   "execution_count": 43,
   "id": "01be40aa-9494-4f91-bb5c-d54dbeeec331",
   "metadata": {},
   "outputs": [
    {
     "name": "stdout",
     "output_type": "stream",
     "text": [
      "75.31250209576118\n"
     ]
    }
   ],
   "source": [
    "import numpy as np\n",
    "import math\n",
    "\n",
    "data  =  np.fromfile(\"/home/sun/data/cesm/ts_PHC2_jan_ic_gx1v6_20090205.ieeer8\", dtype='>f8')\n",
    "\n",
    "import xarray as xr\n",
    "bathy  =  np.fromfile(\"/home/sun/data/cesm/topography_20161215.ieeei4\",dtype='>i4')\n",
    "f1     =  xr.open_dataset('/home/sun/data/cesm/gx1v7_151008.nc')\n",
    "\n",
    "ts     =  data.reshape((2,60,384,320))\n",
    "ts_r  =  ts.copy()\n",
    "bathy2 =  bathy.reshape((384,320))\n",
    "bathy_r = bathy2.copy()\n",
    "lat    =  f1.grid_center_lat.data.reshape((384,320))\n",
    "lon    =  f1.grid_center_lon.data.reshape((384,320))\n",
    "\n",
    "lat_extent1  =  [8,23]\n",
    "lon_extent1  =  [65,90]\n",
    "\n",
    "for n in range(2):\n",
    "    for x in range(384):\n",
    "        for y in range(320):\n",
    "            if (lat[x,y] > math.radians(lat_extent1[0]) and lat[x,y] < math.radians(lat_extent1[1])) and (lon[x,y] > math.radians(lon_extent1[0]) and lon[x,y] < math.radians(lon_extent1[1])):\n",
    "                bathy_r[x,y] =  5\n",
    "                ts_r[n,0:5,x,y] =  30\n",
    "\n",
    "#测试模块\n",
    "lon_degree  =  [math.degrees(ll) for ll in lon[30,:]]\n",
    "print(lon_degree[102])\n",
    "\n",
    "#print(ts[1,0,:,102])\n",
    "#print(ts_r[1,0,:,102])\n",
    "#bathy_r.tofile(\"/home/sun/data/cesm/topography_220605_indian.ieeei4\")\n",
    "#ts_r.tofile(\"/home/sun/data/cesm/ts_noindian_220605.ieeer8\")"
   ]
  },
  {
   "cell_type": "code",
   "execution_count": 40,
   "id": "f23c331e-6d34-4aa9-b0e6-eea7d38a07e3",
   "metadata": {},
   "outputs": [
    {
     "data": {
      "text/plain": [
       "21.376032235711442"
      ]
     },
     "execution_count": 40,
     "metadata": {},
     "output_type": "execute_result"
    }
   ],
   "source": [
    "ts[ts==-99] = np.nan\n",
    "np.nanmean(ts[0,10,190,:])"
   ]
  },
  {
   "cell_type": "markdown",
   "id": "c23d0016-5645-4134-a0be-1be3074125a1",
   "metadata": {},
   "source": [
    "## 测试是否是reshape的原因"
   ]
  },
  {
   "cell_type": "code",
   "execution_count": 2,
   "id": "8f12dfde-5787-4687-811c-2311c4bd3e83",
   "metadata": {},
   "outputs": [],
   "source": [
    "ts_t   =  np.fromfile(\"/home/sun/data/cesm/ts_noindian_220605.ieeer8\", dtype='>f8')\n",
    "bathy_t  =  np.fromfile(\"/home/sun/data/cesm/topography_220605_indian.ieeei4\",dtype='>i4')"
   ]
  },
  {
   "cell_type": "code",
   "execution_count": 9,
   "id": "11c45ddb-020a-485e-b2e3-39fa6afd7792",
   "metadata": {},
   "outputs": [
    {
     "data": {
      "text/plain": [
       "numpy.ndarray"
      ]
     },
     "execution_count": 9,
     "metadata": {},
     "output_type": "execute_result"
    }
   ],
   "source": [
    "type(data)"
   ]
  },
  {
   "cell_type": "code",
   "execution_count": 11,
   "id": "a32207a5-b5f9-43fd-8c49-84a46b5f4a48",
   "metadata": {},
   "outputs": [
    {
     "name": "stderr",
     "output_type": "stream",
     "text": [
      "/tmp/ipykernel_337538/1617688852.py:1: DeprecationWarning: elementwise comparison failed; this will raise an error in the future.\n",
      "  a = (ts_r  ==  ts_t)\n"
     ]
    },
    {
     "data": {
      "text/plain": [
       "False"
      ]
     },
     "execution_count": 11,
     "metadata": {},
     "output_type": "execute_result"
    }
   ],
   "source": [
    "a = (ts_r  ==  ts_t)\n",
    "a"
   ]
  },
  {
   "cell_type": "code",
   "execution_count": null,
   "id": "908e9eb7-326e-479f-a919-d45c664bc102",
   "metadata": {},
   "outputs": [],
   "source": []
  }
 ],
 "metadata": {
  "kernelspec": {
   "display_name": "Python 3 (ipykernel)",
   "language": "python",
   "name": "python3"
  },
  "language_info": {
   "codemirror_mode": {
    "name": "ipython",
    "version": 3
   },
   "file_extension": ".py",
   "mimetype": "text/x-python",
   "name": "python",
   "nbconvert_exporter": "python",
   "pygments_lexer": "ipython3",
   "version": "3.9.12"
  }
 },
 "nbformat": 4,
 "nbformat_minor": 5
}
