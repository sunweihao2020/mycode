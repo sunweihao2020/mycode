{
 "cells": [
  {
   "cell_type": "markdown",
   "id": "following-underground",
   "metadata": {},
   "source": [
    "### 2021/2/22\n",
    "### 使用资料:/mydown/era5-model\n",
    "### 本代码使用逐小时era5模式层数据来计算季风爆发前夕地表位涡的制造\n",
    "### 只计算爆发前30天，不计算爆发后"
   ]
  },
  {
   "cell_type": "code",
   "execution_count": 1,
   "id": "advance-disease",
   "metadata": {},
   "outputs": [],
   "source": [
    "import os\n",
    "import numpy as np\n",
    "import numpy.ma as ma\n",
    "import Ngl, Nio\n",
    "from netCDF4 import Dataset\n",
    "import json\n",
    "import sys\n",
    "import math\n",
    "sys.path.append(\"/mycode/module/\")\n",
    "from module_writenc import *\n",
    "from module_sun import *\n",
    "from attribute import *\n",
    "with open(\"/data/onsetdate.json\",'r') as load_f:\n",
    "    a = json.load(load_f)\n",
    "\n",
    "year = np.array(list(a.keys()))\n",
    "day = np.array(list(a.values()))\n",
    "year = year.astype(int)\n",
    "day = day.astype(int)"
   ]
  },
  {
   "cell_type": "markdown",
   "id": "billion-travel",
   "metadata": {},
   "source": [
    "* 获取基础信息"
   ]
  },
  {
   "cell_type": "code",
   "execution_count": 2,
   "id": "intensive-round",
   "metadata": {},
   "outputs": [],
   "source": [
    "f0 = Nio.open_file(\"/mydown/era5-model/1995_modellev.nc\")\n",
    "lon = f0.variables[\"longitude\"][:]\n",
    "lat = f0.variables[\"latitude\"][::-1]\n",
    "level = f0.variables[\"level\"][:]\n",
    "disy,disx,location = cal_xydistance(lat,lon)"
   ]
  },
  {
   "cell_type": "code",
   "execution_count": 3,
   "id": "printable-labor",
   "metadata": {},
   "outputs": [],
   "source": [
    "path_model = \"/mydown/era5-model/\"\n",
    "path_ps = \"/mydown/era5-ps/\"\n",
    "\n",
    "#### 定义一个函数使得ps和model数据时间上统一"
   ]
  },
  {
   "cell_type": "code",
   "execution_count": 4,
   "id": "solved-account",
   "metadata": {},
   "outputs": [],
   "source": [
    "def unanimous(year):\n",
    "    path = \"/mydown/era5-ps/\"\n",
    "    f1 = Nio.open_file(path+\"ps.\"+str(year)+\"-03.nc\")\n",
    "    f2 = Nio.open_file(path+\"ps.\"+str(year)+\"-04.nc\")\n",
    "    f3 = Nio.open_file(path+\"ps.\"+str(year)+\"-05.nc\")\n",
    "    f4 = Nio.open_file(path+\"ps.\"+str(year)+\"-06.nc\")\n",
    "    ps1 = f1.variables[\"sp\"][:,30:151,30:121]\n",
    "    ps1_1 = f1.variables[\"sp\"]\n",
    "    ps1 = ps1[:,::-1,:]*(ps1_1.scale_factor[0]) + (ps1_1.add_offset[0])\n",
    "    ps2 = f2.variables[\"sp\"][:,30:151,30:121]\n",
    "    ps2_1 = f2.variables[\"sp\"]\n",
    "    ps2 = ps2[:,::-1,:]*(ps2_1.scale_factor[0]) + (ps2_1.add_offset[0])\n",
    "    ps3 = f3.variables[\"sp\"][:,30:151,30:121]\n",
    "    ps3_1 = f3.variables[\"sp\"]\n",
    "    ps3 = ps3[:,::-1,:]*(ps3_1.scale_factor[0]) + (ps3_1.add_offset[0])\n",
    "    ps4 = f4.variables[\"sp\"][0:24,30:151,30:121]\n",
    "    ps4_1 = f4.variables[\"sp\"]\n",
    "    ps4 = ps4[:,::-1,:]*(ps4_1.scale_factor[0]) + (ps4_1.add_offset[0])\n",
    "    ps  = ma.zeros((ps1.shape[0]+ps2.shape[0]+ps3.shape[0]+ps4.shape[0],121,91))\n",
    "    ps[0:ps1.shape[0],:,:] = ps1\n",
    "    ps[ps1.shape[0]:(ps1.shape[0]+ps2.shape[0]),:,:] = ps2\n",
    "    ps[(ps1.shape[0]+ps2.shape[0]):(ps1.shape[0]+ps2.shape[0]+ps3.shape[0]),:,:] = ps3\n",
    "    ps[(ps1.shape[0]+ps2.shape[0]+ps3.shape[0]):,:,:] = ps4\n",
    "    \n",
    "    return ps\n",
    "\n",
    "##### 把读取出来的数据反转再去short\n",
    "\n",
    "def second_deal(var1):\n",
    "    #var1带标签变量 var2纯数据\n",
    "    var = var1[:,::-1,:]  #反转\n",
    "    scale_factor = var1.scale_factor[0]\n",
    "    add_offset = var1.add_offset[0]\n",
    "    v2  =  var*scale_factor + add_offset\n",
    "    return v2\n",
    "\n",
    "def pv_create(u,v,tem,ps,location,disx):\n",
    "    #这里使用逐小时计算整天的，故一次传入24个时次\n",
    "    \n",
    "    #三维涡度\n",
    "    vz = (v[:,0,:,:]-v[:,1,:,:])/20\n",
    "    uz = (u[:,0,:,:]-u[:,1,:,:])/20\n",
    "    uy = ma.zeros((24,2,121,91))\n",
    "    vx = ma.zeros((24,2,121,91))\n",
    "    for t in range(0,u.shape[0]):\n",
    "        for z in range(0,u.shape[1]):\n",
    "            uy[t,z,:,:] = -1*np.gradient(u[t,z,:,:],location,axis=0)\n",
    "            for latt in range(0,u.shape[2]):\n",
    "                vx[t,z,latt,:] = np.gradient(v[t,z,latt,:],disx[latt],axis=0)\n",
    "    vorticity = -vz+uz+vx[:,1,:,:]-uy[:,1,:,:]\n",
    "    \n",
    "    #计算theta\n",
    "    theta = tem[:,1,:,:]*pow((100000/ps),0.286)\n",
    "    #计算\n",
    "    J_dynamic1 = -1*np.gradient(-vz,np.arange(1,25,1),axis=0)*theta\n",
    "    J_dynamic2 = -1*np.gradient(uz,np.arange(1,25,1),axis=0)*theta\n",
    "    J_dynamic3 = -1*np.gradient((vx[:,1,:,:]-uy[:,1,:,:]),np.arange(1,25,1),axis=0)*theta\n",
    "    J_dynamic = -1*np.gradient(vorticity,np.arange(1,25,1),axis=0)*theta\n",
    "    \n",
    "    #计算当日的位涡制造\n",
    "    J_dynamic_day1 = np.sum(J_dynamic1,axis=0)\n",
    "    J_dynamic_day2 = np.sum(J_dynamic2,axis=0)\n",
    "    J_dynamic_day3 = np.sum(J_dynamic3,axis=0)\n",
    "    J_dynamic_day = np.sum(J_dynamic,axis=0)\n",
    "    #J_day = J_dynamic_day + J_thermal_day\n",
    "    \n",
    "    return J_dynamic_day1,J_dynamic_day2,J_dynamic_day3,J_dynamic_day"
   ]
  },
  {
   "cell_type": "markdown",
   "id": "studied-malta",
   "metadata": {},
   "source": [
    "### 主体程序"
   ]
  },
  {
   "cell_type": "markdown",
   "id": "approximate-mauritius",
   "metadata": {},
   "source": [
    "* 声明结果数组"
   ]
  },
  {
   "cell_type": "code",
   "execution_count": 5,
   "id": "better-joining",
   "metadata": {},
   "outputs": [],
   "source": [
    "J = ma.zeros((40,35,121,91))  #年日经纬度\n",
    "J_dynamic = ma.zeros((40,35,121,91))\n",
    "J_thermal = ma.zeros((40,35,121,91))\n",
    "vora = ma.zeros((40,35,121,91))\n",
    "vz= ma.zeros((40,35,121,91))\n",
    "uz= ma.zeros((40,35,121,91))\n",
    "vor1= ma.zeros((40,35,121,91))"
   ]
  },
  {
   "cell_type": "markdown",
   "id": "surgical-projector",
   "metadata": {},
   "source": [
    "##### 定位与切割,把爆发前30天+当天+爆发后4天的35*24小时数据截取出来"
   ]
  },
  {
   "cell_type": "code",
   "execution_count": 6,
   "id": "spectacular-profile",
   "metadata": {},
   "outputs": [],
   "source": [
    "for yyyy in range(1980,2020):\n",
    "    \n",
    "    ps1 = unanimous(yyyy)\n",
    "    f1 = Nio.open_file(path_model+str(yyyy)+\"_modellev.nc\")\n",
    "    u1 = f1.variables[\"u\"]\n",
    "    v1 = f1.variables[\"v\"]\n",
    "    t1 = f1.variables[\"t\"]\n",
    "    u1 = second_deal(u1)\n",
    "    v1 = second_deal(v1)\n",
    "    t1 = second_deal(t1)\n",
    "\n",
    "    day1 = int(a[str(yyyy)])\n",
    "    if leap_year(yyyy): #需要刨去的\n",
    "        day_front = day1 - 30 -61\n",
    "    else:\n",
    "        day_front = day1 - 30 -60\n",
    "    hour1 = day_front * 24\n",
    "    ps2 = ps1[hour1:hour1+840,:,:]\n",
    "    u2  = u1[hour1:hour1+840,:,:,:]\n",
    "    v2  = v1[hour1:hour1+840,:,:,:]\n",
    "    t2  = t1[hour1:hour1+840,:,:,:]\n",
    "\n",
    "    for dddd in range(0,35):\n",
    "        #J[yyyy-1980,dddd,:,:],J_dynamic[yyyy-1980,dddd,:,:],J_thermal[yyyy-1980,dddd,:,:] = pv_create(u2[dddd*24:dddd*24+24,:,:,:],v2[dddd*24:dddd*24+24,:,:,:],t2[dddd*24:dddd*24+24,:,:,:],ps2[dddd*24:dddd*24+24,:,:], location,disx)\n",
    "        J[yyyy-1980,dddd,:,:],J_dynamic[yyyy-1980,dddd,:,:],J_thermal[yyyy-1980,dddd,:,:],b = pv_create(u2[dddd*24:dddd*24+24,:,:,:],v2[dddd*24:dddd*24+24,:,:,:],t2[dddd*24:dddd*24+24,:,:,:],ps2[dddd*24:dddd*24+24,:,:], location,disx)\n",
    "Jmean = np.sum(J,axis=0)/40\n",
    "J_dynamicmean = np.sum(J_dynamic,axis=0)/40\n",
    "J_thermalmean = np.sum(J_thermal,axis=0)/40\n",
    "\n",
    "time = np.arange(0,35)\n",
    "fout = create_nc_single('/data/','composite-era5pvcreate2',time,lon,lat)\n",
    "a_w = {'longname': 'PVS', 'units': 'K m-1 s-1', 'valid_range': [-1000000000000000.0, 1000000000000000.0]}\n",
    "a_v = {'longname': 'vorticity', 'units': 'm s-1', 'valid_range': [-1000000000000000.0, 1000000000000000.0]}\n",
    "add_variables(fout,'j_vz',Jmean,a_w,0)\n",
    "add_variables(fout,'j_uz',J_dynamicmean,a_w,0)\n",
    "add_variables(fout,'j_horizontal',J_thermalmean,a_w,0)\n",
    "add_variables(fout,'j_dynamic',b,a_w,0)\n",
    "\n",
    "fout.close()"
   ]
  },
  {
   "cell_type": "code",
   "execution_count": null,
   "id": "alien-principle",
   "metadata": {},
   "outputs": [],
   "source": []
  }
 ],
 "metadata": {
  "kernelspec": {
   "display_name": "Python 3",
   "language": "python",
   "name": "python3"
  },
  "language_info": {
   "codemirror_mode": {
    "name": "ipython",
    "version": 3
   },
   "file_extension": ".py",
   "mimetype": "text/x-python",
   "name": "python",
   "nbconvert_exporter": "python",
   "pygments_lexer": "ipython3",
   "version": "3.7.9"
  }
 },
 "nbformat": 4,
 "nbformat_minor": 5
}
