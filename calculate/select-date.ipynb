{
 "cells": [
  {
   "cell_type": "markdown",
   "id": "honey-provision",
   "metadata": {},
   "source": [
    "### 2021/2/16\n",
    "### 本代码为挑选季风爆发早年和爆发晚年\n",
    "### 使用资料：/data/onsetdate.json"
   ]
  },
  {
   "cell_type": "code",
   "execution_count": null,
   "id": "current-soundtrack",
   "metadata": {},
   "outputs": [],
   "source": [
    "import os\n",
    "import numpy as np\n",
    "import numpy.ma as ma\n",
    "import Ngl, Nio\n",
    "from netCDF4 import Dataset\n",
    "import json\n",
    "import sys\n",
    "sys.path.append(\"/mycode/module/\")\n",
    "from module_writenc import *\n",
    "from attribute import *"
   ]
  },
  {
   "cell_type": "code",
   "execution_count": 58,
   "id": "optimum-antibody",
   "metadata": {},
   "outputs": [],
   "source": [
    "with open(\"/data/onsetdate.json\",'r') as load_f:\n",
    "    a = json.load(load_f)\n",
    "\n",
    "year = np.array(list(a.keys()))\n",
    "day = np.array(list(a.values()))\n",
    "year = year.astype(int)\n",
    "#day = day.astype(int)"
   ]
  },
  {
   "cell_type": "markdown",
   "id": "intensive-relaxation",
   "metadata": {},
   "source": [
    "* 数据标准化"
   ]
  },
  {
   "cell_type": "code",
   "execution_count": 54,
   "id": "casual-belfast",
   "metadata": {},
   "outputs": [],
   "source": [
    "std = np.std(day)\n",
    "mean = np.mean(day)\n",
    "\n",
    "day_stand = (day - mean)/std"
   ]
  },
  {
   "cell_type": "code",
   "execution_count": 55,
   "id": "herbal-intro",
   "metadata": {},
   "outputs": [],
   "source": [
    "early = np.array([])\n",
    "late  = np.array([])\n",
    "for i in range(0,40):\n",
    "    if day_stand[i] < -0.7:\n",
    "        early = np.append(early,year[i])\n",
    "    elif day_stand[i] > 0.7:\n",
    "        late  = np.append(late,year[i])\n",
    "    else:\n",
    "        continue"
   ]
  },
  {
   "cell_type": "markdown",
   "id": "gentle-candle",
   "metadata": {},
   "source": [
    "* 写入文件中"
   ]
  },
  {
   "cell_type": "code",
   "execution_count": 68,
   "id": "olympic-constraint",
   "metadata": {},
   "outputs": [],
   "source": [
    "early_date = {}\n",
    "late_date  = {}\n",
    "for yyyy in early:\n",
    "    yy = str(int(yyyy))\n",
    "    dd = a[yy]\n",
    "    early_date[yy] = dd\n",
    "    \n",
    "for yyyy in late:\n",
    "    yy = str(int(yyyy))\n",
    "    dd = a[yy]\n",
    "    late_date[yy] = dd\n",
    "    \n",
    "with open(\"/data/early_date.json\",\"w\") as file1:\n",
    "    json.dump(early_date, file1)\n",
    "    \n",
    "with open(\"/data/late_date.json\",\"w\") as file2:\n",
    "    json.dump(late_date, file2)"
   ]
  },
  {
   "cell_type": "markdown",
   "id": "liked-description",
   "metadata": {},
   "source": [
    "## 👆这尼玛的只能一次存一个json"
   ]
  },
  {
   "cell_type": "code",
   "execution_count": 76,
   "id": "invalid-transcript",
   "metadata": {},
   "outputs": [],
   "source": [
    "data = np.ma.MaskedArray([1,2], mask=[False, True])\n",
    "data2 = [5,6]\n",
    "ss = data2+data"
   ]
  },
  {
   "cell_type": "code",
   "execution_count": 77,
   "id": "spoken-youth",
   "metadata": {},
   "outputs": [
    {
     "data": {
      "text/plain": [
       "masked_array(data=[6, --],\n",
       "             mask=[False,  True],\n",
       "       fill_value=999999)"
      ]
     },
     "execution_count": 77,
     "metadata": {},
     "output_type": "execute_result"
    }
   ],
   "source": [
    "ss"
   ]
  },
  {
   "cell_type": "code",
   "execution_count": null,
   "id": "mental-harris",
   "metadata": {},
   "outputs": [],
   "source": []
  }
 ],
 "metadata": {
  "kernelspec": {
   "display_name": "Python 3",
   "language": "python",
   "name": "python3"
  },
  "language_info": {
   "codemirror_mode": {
    "name": "ipython",
    "version": 3
   },
   "file_extension": ".py",
   "mimetype": "text/x-python",
   "name": "python",
   "nbconvert_exporter": "python",
   "pygments_lexer": "ipython3",
   "version": "3.7.9"
  }
 },
 "nbformat": 4,
 "nbformat_minor": 5
}
