{
 "cells": [
  {
   "cell_type": "markdown",
   "id": "pending-industry",
   "metadata": {},
   "source": [
    "### 2021/3/10\n",
    "### 计算涡度梯度、以及涡度平流项"
   ]
  },
  {
   "cell_type": "code",
   "execution_count": 1,
   "id": "flying-airplane",
   "metadata": {},
   "outputs": [],
   "source": [
    "import os\n",
    "import numpy as np\n",
    "import numpy.ma as ma\n",
    "import Ngl, Nio\n",
    "from netCDF4 import Dataset\n",
    "import json\n",
    "import sys\n",
    "import math\n",
    "sys.path.append(\"/mycode/module/\")\n",
    "from module_writenc import *\n",
    "from module_sun import *"
   ]
  },
  {
   "cell_type": "code",
   "execution_count": null,
   "id": "weighted-aggregate",
   "metadata": {},
   "outputs": [],
   "source": [
    "f1 = Nio.open_file(\"/data/div_vor.nc\")\n",
    "f2 = Nio.open_file(\"/data/composite3.nc\")\n",
    "u = f2.variables[\"uwind\"][:]\n",
    "v = f2.variables[\"vwind\"][:]\n",
    "lev = f2.variables[\"level\"][:]\n",
    "lon = f2.variables[\"lon\"][:]\n",
    "lat = f2.variables[\"lat\"][:]\n",
    "disy,disx,location = cal_xydistance(lat,lon)\n",
    "vor = f1.variables[\"vor\"][:]\n",
    "\n",
    "vorx = ma.zeros((61,42,361,576))\n",
    "vory = ma.zeros((61,42,361,576))\n",
    "\n",
    "for t in range(0,u.shape[0]):\n",
    "    for z in range(0,u.shape[1]):\n",
    "        vory[t,z,:,:] = np.gradient(vor[t,z,:,:],location,axis=0)\n",
    "        for latt in range(1,u.shape[2]-1):\n",
    "            vorx[t,z,latt,:] = np.gradient(vor[t,z,latt,:],disx[latt],axis=0)\n",
    "            \n",
    "uvorx = u*vorx\n",
    "vvory = v*vory\n",
    "\n",
    "time = np.arange(0,61)\n",
    "fout = create_nc_multiple('/data/','composite-divvor',time,level,lon,lat)\n",
    "a_w = {'longname': 'wind * vor gradient', 'units': '1', 'valid_range': [-1000000000000000.0, 1000000000000000.0]}\n",
    "add_variables(fout,'v vor_gradient',vvory,a_w,1)\n",
    "add_variables(fout,'u vor_gradient',uvorx,a_w,1)\n",
    "\n",
    "\n",
    "fout.close()"
   ]
  },
  {
   "cell_type": "code",
   "execution_count": null,
   "id": "greek-retreat",
   "metadata": {},
   "outputs": [],
   "source": []
  }
 ],
 "metadata": {
  "kernelspec": {
   "display_name": "Python 3",
   "language": "python",
   "name": "python3"
  },
  "language_info": {
   "codemirror_mode": {
    "name": "ipython",
    "version": 3
   },
   "file_extension": ".py",
   "mimetype": "text/x-python",
   "name": "python",
   "nbconvert_exporter": "python",
   "pygments_lexer": "ipython3",
   "version": "3.7.9"
  }
 },
 "nbformat": 4,
 "nbformat_minor": 5
}
