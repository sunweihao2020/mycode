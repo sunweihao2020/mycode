{
 "cells": [
  {
   "cell_type": "markdown",
   "metadata": {},
   "source": [
    "# 2021/11/11\n",
    "# 本代码计算气压梯度力\n",
    "# merra2资料与famil实验的，MERRA2资料分为气候态、早年、晚年"
   ]
  },
  {
   "cell_type": "code",
   "execution_count": 1,
   "metadata": {},
   "outputs": [],
   "source": [
    "import os\n",
    "import sys\n",
    "import xarray as xr\n",
    "import numpy as np\n",
    "module_path = [\"/home/sun/mycode/module/\",\"/data5/2019swh/mycode/module/\"]\n",
    "sys.path.append(module_path[0])\n",
    "from module_sun import *"
   ]
  },
  {
   "cell_type": "code",
   "execution_count": 2,
   "metadata": {},
   "outputs": [],
   "source": [
    "path0     =  '/home/sun/qomo-data/zhuang_plev/'\n",
    "exp_name  =  ['con','id']\n",
    "\n",
    "f0        =  xr.open_dataset(path0+'plev_'+exp_name[0]+'_Z3.nc')\n",
    "f1        =  xr.open_dataset(path0+'plev_'+exp_name[1]+'_Z3.nc')"
   ]
  },
  {
   "cell_type": "code",
   "execution_count": 3,
   "metadata": {},
   "outputs": [],
   "source": [
    "# 读入数据\n",
    "con_z3    =  f0.Z3.data*9.8\n",
    "id_z3     =  f1.Z3.data*9.8\n",
    "\n",
    "# 计算y方向梯度力\n",
    "\n",
    "'''获取地理坐标'''\n",
    "disy,disx,location =   cal_xydistance(f0.lat,f0.lon)\n",
    "\n",
    "'''计算梯度'''\n",
    "gradient_y_con     =   np.gradient(con_z3,location,axis=2)\n",
    "gradient_y_id      =   np.gradient(id_z3,location,axis=2)"
   ]
  },
  {
   "cell_type": "code",
   "execution_count": 4,
   "metadata": {},
   "outputs": [],
   "source": [
    "ncfile  =  xr.Dataset(\n",
    "    {\n",
    "        \"gradient_y_con\": ([\"time\", \"lev\", \"lat\", \"lon\"], gradient_y_con),\n",
    "        \"gradient_y_id\": ([\"time\", \"lev\", \"lat\", \"lon\"], gradient_y_id),\n",
    "    },\n",
    "    coords={\n",
    "        \"lon\": ([\"lon\"], f0.lon.data),\n",
    "        \"lat\": ([\"lat\"], f0.lat.data),\n",
    "        \"lev\": ([\"lev\"], f0.lev.data),\n",
    "        \"time\": ([\"time\"], np.linspace(1,365,365)),\n",
    "    },\n",
    ")\n",
    "ncfile.gradient_y_con.attrs  =  f0.Z3.attrs\n",
    "ncfile.gradient_y_id.attrs   =  f0.Z3.attrs\n",
    "ncfile[\"lat\"].attrs  =  f0[\"lat\"].attrs\n",
    "ncfile[\"lon\"].attrs  =  f0[\"lon\"].attrs\n",
    "ncfile[\"lev\"].attrs  =  f0[\"lev\"].attrs\n",
    "ncfile.to_netcdf(\"/home/sun/data/geopotential_height_gradient_con_id.nc\")"
   ]
  },
  {
   "cell_type": "code",
   "execution_count": 5,
   "metadata": {},
   "outputs": [],
   "source": [
    "# 处理成候平均\n",
    "f1  =  xr.open_dataset('/home/sun/data/geopotential_height_gradient_con_id.nc')\n",
    "pentad_gradient_y_con  =  np.zeros((73,f1.gradient_y_con.shape[1],f1.gradient_y_con.shape[2],f1.gradient_y_con.shape[3]))\n",
    "pentad_gradient_y_id   =  pentad_gradient_y_con.copy()\n",
    "\n",
    "for i in range(0,73):\n",
    "    pentad_gradient_y_con[i,:]  =  np.average(f1.gradient_y_con[i*5:i*5+5,:],axis=0)\n",
    "    pentad_gradient_y_id[i,:]   =  np.average(f1.gradient_y_id[i*5:i*5+5,:],axis=0)\n",
    "\n",
    "ncfile  =  xr.Dataset(\n",
    "    {\n",
    "        \"pentad_gradient_y_con\": ([\"time\", \"lev\", \"lat\", \"lon\"], pentad_gradient_y_con),\n",
    "        \"pentad_gradient_y_id\": ([\"time\", \"lev\", \"lat\", \"lon\"],  pentad_gradient_y_id),\n",
    "    },\n",
    "    coords={\n",
    "        \"lon\": ([\"lon\"], f0.lon.data),\n",
    "        \"lat\": ([\"lat\"], f0.lat.data),\n",
    "        \"lev\": ([\"lev\"], f0.lev.data),\n",
    "        \"time\": ([\"time\"], np.linspace(1,73,73)),\n",
    "    },\n",
    ")\n",
    "ncfile.pentad_gradient_y_con.attrs  =  f0.Z3.attrs\n",
    "ncfile.pentad_gradient_y_id.attrs   =  f0.Z3.attrs\n",
    "ncfile[\"lat\"].attrs  =  f0[\"lat\"].attrs\n",
    "ncfile[\"lon\"].attrs  =  f0[\"lon\"].attrs\n",
    "ncfile[\"lev\"].attrs  =  f0[\"lev\"].attrs\n",
    "ncfile.to_netcdf(\"/home/sun/data/pentad_geopotential_height_gradient_con_id.nc\")"
   ]
  },
  {
   "cell_type": "code",
   "execution_count": null,
   "metadata": {},
   "outputs": [],
   "source": []
  }
 ],
 "metadata": {
  "interpreter": {
   "hash": "e7370f93d1d0cde622a1f8e1c04877d8463912d04d973331ad4851f04de6915a"
  },
  "kernelspec": {
   "display_name": "Python 3 (ipykernel)",
   "language": "python",
   "name": "python3"
  },
  "language_info": {
   "codemirror_mode": {
    "name": "ipython",
    "version": 3
   },
   "file_extension": ".py",
   "mimetype": "text/x-python",
   "name": "python",
   "nbconvert_exporter": "python",
   "pygments_lexer": "ipython3",
   "version": "3.9.12"
  }
 },
 "nbformat": 4,
 "nbformat_minor": 4
}
