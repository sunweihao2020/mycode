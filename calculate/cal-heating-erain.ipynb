{
 "cells": [
  {
   "cell_type": "markdown",
   "id": "interested-plaintiff",
   "metadata": {},
   "source": [
    "### 2021/3/31\n",
    "### 本代码使用ERAIN的资料来计算视热源"
   ]
  },
  {
   "cell_type": "code",
   "execution_count": 1,
   "id": "nervous-keyboard",
   "metadata": {},
   "outputs": [],
   "source": [
    "import os\n",
    "import numpy as np\n",
    "import numpy.ma as ma\n",
    "import Ngl, Nio\n",
    "from netCDF4 import Dataset\n",
    "import json\n",
    "import sys\n",
    "import math\n",
    "sys.path.append(\"/mycode/module/\")\n",
    "from module_sun import *\n",
    "from module_writenc import *\n",
    "#from attribute import *"
   ]
  },
  {
   "cell_type": "code",
   "execution_count": 2,
   "id": "commercial-midnight",
   "metadata": {},
   "outputs": [],
   "source": [
    "f = Nio.open_file(\"/data/composite-erain.nc\")"
   ]
  },
  {
   "cell_type": "code",
   "execution_count": 8,
   "id": "successful-semester",
   "metadata": {},
   "outputs": [],
   "source": [
    "lev = f.variables[\"level\"][:]\n",
    "time = f.variables[\"time\"][:]\n",
    "t = f.variables[\"t\"][:]\n",
    "theta = copy.deepcopy(t)"
   ]
  },
  {
   "cell_type": "markdown",
   "id": "ignored-guatemala",
   "metadata": {},
   "source": [
    "#### 计算位温"
   ]
  },
  {
   "cell_type": "code",
   "execution_count": 9,
   "id": "greatest-tribute",
   "metadata": {},
   "outputs": [],
   "source": [
    "for i in range(0,len(lev)):\n",
    "    theta[:,i,:,:] = t[:,i,:,:]*math.pow((1000/lev[i]),0.286)"
   ]
  },
  {
   "cell_type": "markdown",
   "id": "composite-water",
   "metadata": {},
   "source": [
    "### 获取x，y方向distance"
   ]
  },
  {
   "cell_type": "code",
   "execution_count": 32,
   "id": "organic-studio",
   "metadata": {},
   "outputs": [],
   "source": [
    "lat = f.variables[\"lat\"][:]\n",
    "lon = f.variables[\"lon\"][:]\n",
    "disy,disx,location = cal_xydistance(lat,lon)\n",
    "ptheta_px = ma.zeros(theta.shape)\n",
    "ptheta_py = np.gradient(theta,location,axis = 2)\n",
    "for tttt in range(0,61):\n",
    "    for llll in range(0,37):\n",
    "        for yyyy in range(1,len(lat)-1):\n",
    "            ptheta_px[tttt,llll,yyyy,:] = np.gradient(theta[tttt,llll,yyyy,:],disx[yyyy])\n",
    "u = f.variables[\"u\"][:]\n",
    "v = f.variables[\"v\"][:]\n",
    "\n",
    "h_advective = u*ptheta_px+v*ptheta_py\n",
    "\n",
    "p = lev*100\n",
    "w = f.variables[\"w\"][:]\n",
    "ptheta_pp = np.gradient(theta,p,axis=1)\n",
    "w_advective = w*ptheta_pp\n",
    "\n",
    "advection = (h_advective+w_advective)*60*60*24\n",
    "\n",
    "time = f.variables[\"time\"][:]\n",
    "ptheta_pt = np.gradient(theta,axis=0)\n",
    "\n",
    "dtheta_dt = ptheta_pt+advection"
   ]
  },
  {
   "cell_type": "code",
   "execution_count": null,
   "id": "acoustic-disease",
   "metadata": {},
   "outputs": [],
   "source": [
    "q1_cp = ma.zeros(dtheta_dt.shape)\n",
    "for i in range(0,len(lev)):\n",
    "    q1_cp[:,i,:,:] = dtheta_dt[:,i,:,:]*math.pow((lev[i]/1000),0.286)"
   ]
  },
  {
   "cell_type": "code",
   "execution_count": null,
   "id": "innovative-solution",
   "metadata": {},
   "outputs": [],
   "source": [
    "a_q = {'longname': 'Q1_heating','units': 'K s-1','valid_range': [-1000000000000000.0, 1000000000000000.0]}\n",
    "time = np.arange(0,61)\n",
    "fout = create_nc_multiple('/data/','composite-Q1-erain',time,lev,lon,lat)\n",
    "add_variables(fout,'Q1',q1_cp,a_q,1)\n",
    "fout.close()"
   ]
  }
 ],
 "metadata": {
  "kernelspec": {
   "display_name": "Python 3",
   "language": "python",
   "name": "python3"
  },
  "language_info": {
   "codemirror_mode": {
    "name": "ipython",
    "version": 3
   },
   "file_extension": ".py",
   "mimetype": "text/x-python",
   "name": "python",
   "nbconvert_exporter": "python",
   "pygments_lexer": "ipython3",
   "version": "3.7.9"
  }
 },
 "nbformat": 4,
 "nbformat_minor": 5
}
