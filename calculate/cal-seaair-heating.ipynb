{
 "cells": [
  {
   "cell_type": "markdown",
   "id": "precious-storm",
   "metadata": {},
   "source": [
    "#### 2021/4/5\n",
    "#### 本代码使用合成分析后的merra资料、而成后的oisst资料，来探讨海表感热通量的变化"
   ]
  },
  {
   "cell_type": "code",
   "execution_count": 6,
   "id": "partial-somalia",
   "metadata": {},
   "outputs": [],
   "source": [
    "import os\n",
    "import numpy as np\n",
    "import numpy.ma as ma\n",
    "import Ngl, Nio\n",
    "from netCDF4 import Dataset\n",
    "import json\n",
    "import sys\n",
    "import math\n",
    "sys.path.append(\"/mycode/module/\")\n",
    "from module_sun import *\n",
    "from module_writenc import *\n",
    "from attribute import *"
   ]
  },
  {
   "cell_type": "code",
   "execution_count": 7,
   "id": "lyric-angel",
   "metadata": {},
   "outputs": [],
   "source": [
    "f1 = Nio.open_file(\"/data/composite_OISST_trans.nc\")\n",
    "f2 = Nio.open_file(\"/data/composite-merra2-single.nc\")\n",
    "f3 = Nio.open_file(\"/data/composite_OISST_trans2.nc\")\n",
    "sst = f1.variables[\"sst\"][:]\n",
    "t = f2.variables[\"T2M\"][:]\n",
    "u = f2.variables[\"U2M\"][:]\n",
    "v = f2.variables[\"V2M\"][:]\n",
    "\n",
    "lon = f1.variables[\"lon\"][:]\n",
    "lat = f1.variables[\"lat\"][:]"
   ]
  },
  {
   "cell_type": "code",
   "execution_count": 8,
   "id": "through-brick",
   "metadata": {},
   "outputs": [],
   "source": [
    "speed  =  ma.zeros(u.shape)\n",
    "for x in range(0,u.shape[0]):\n",
    "    for y in range(0,u.shape[1]):\n",
    "        for z in range(0,u.shape[2]):\n",
    "            speed[x,y,z] = math.sqrt(u[x,y,z]**2+v[x,y,z]**2)"
   ]
  },
  {
   "cell_type": "code",
   "execution_count": 9,
   "id": "sound-module",
   "metadata": {},
   "outputs": [],
   "source": [
    "flux = speed*(sst[0:35]-(t-273.15))\n",
    "delta_t = sst[0:35]-(t-273.15)"
   ]
  },
  {
   "cell_type": "code",
   "execution_count": 10,
   "id": "suited-culture",
   "metadata": {},
   "outputs": [],
   "source": [
    "time = np.arange(0,35)\n",
    "fout = create_nc_single('/data/',\"composite-sea-air-flux\",time,lon,lat)\n",
    "a_flux = {'longname': 'air-sea-flux', 'units': '1', 'valid_range': [-1000000000000000.0, 1000000000000000.0]}\n",
    "add_variables(fout,'flux',flux,a_flux,0)\n",
    "add_variables(fout,'delta_T',delta_t,a_T,0)\n",
    "fout.close()"
   ]
  },
  {
   "cell_type": "code",
   "execution_count": 11,
   "id": "silent-fault",
   "metadata": {},
   "outputs": [
    {
     "data": {
      "text/plain": [
       "237.28893547058107"
      ]
     },
     "execution_count": 11,
     "metadata": {},
     "output_type": "execute_result"
    }
   ],
   "source": [
    "t[10,10,10]"
   ]
  },
  {
   "cell_type": "code",
   "execution_count": null,
   "id": "renewable-guidance",
   "metadata": {},
   "outputs": [],
   "source": []
  }
 ],
 "metadata": {
  "kernelspec": {
   "display_name": "Python 3",
   "language": "python",
   "name": "python3"
  },
  "language_info": {
   "codemirror_mode": {
    "name": "ipython",
    "version": 3
   },
   "file_extension": ".py",
   "mimetype": "text/x-python",
   "name": "python",
   "nbconvert_exporter": "python",
   "pygments_lexer": "ipython3",
   "version": "3.7.9"
  }
 },
 "nbformat": 4,
 "nbformat_minor": 5
}
