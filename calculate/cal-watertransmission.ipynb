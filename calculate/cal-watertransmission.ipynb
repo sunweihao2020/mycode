{
 "cells": [
  {
   "cell_type": "markdown",
   "id": "formed-taiwan",
   "metadata": {},
   "source": [
    "### 2021/2/27\n",
    "### 本代码计算水汽输送以及水汽输送辐合辐散\n",
    "### 使用资料：/data/composite_specific_humidity.nc"
   ]
  },
  {
   "cell_type": "code",
   "execution_count": null,
   "id": "plain-colorado",
   "metadata": {},
   "outputs": [],
   "source": [
    "import os\n",
    "import numpy as np\n",
    "import numpy.ma as ma\n",
    "import Ngl, Nio\n",
    "from netCDF4 import Dataset\n",
    "import json\n",
    "import sys\n",
    "import math\n",
    "sys.path.append(\"/mycode/module/\")\n",
    "from module_writenc import *\n",
    "from module_sun import *"
   ]
  },
  {
   "cell_type": "code",
   "execution_count": null,
   "id": "graduate-cincinnati",
   "metadata": {},
   "outputs": [],
   "source": [
    "f1 = Nio.open_file(\"/data/composite_specific_humidity.nc\")\n",
    "f2 = Nio.open_file(\"/data/composite3.nc\")"
   ]
  },
  {
   "cell_type": "code",
   "execution_count": null,
   "id": "respective-dubai",
   "metadata": {},
   "outputs": [],
   "source": [
    "q = f1.variables[\"specific_humidity\"][:]\n",
    "u = f2.variables[\"uwind\"][:]\n",
    "v = f2.variables[\"vwind\"][:]\n",
    "uq = u*q\n",
    "vq = v*q\n",
    "lon = f2.variables[\"lon\"][:]\n",
    "lat = f2.variables[\"lat\"][:]\n",
    "disy,disx,location = cal_xydistance(lat,lon)\n",
    "ux = ma.zeros((61,42,361,576))\n",
    "vy = ma.zeros((61,42,361,576))\n",
    "for t in range(0,u.shape[0]):\n",
    "    for z in range(0,u.shape[1]):\n",
    "        vy[t,z,:,:] = np.gradient(v[t,z,:,:],location,axis=0)\n",
    "        for latt in range(1,u.shape[2]-1):\n",
    "            ux[t,z,latt,:] = np.gradient(u[t,z,latt,:],disx[latt],axis=0)\n",
    "uxq = ux*q\n",
    "vyq = vy*q"
   ]
  },
  {
   "cell_type": "code",
   "execution_count": null,
   "id": "miniature-yukon",
   "metadata": {},
   "outputs": [],
   "source": [
    "print(q[10,1,:,400])"
   ]
  },
  {
   "cell_type": "code",
   "execution_count": null,
   "id": "fifth-chapel",
   "metadata": {},
   "outputs": [],
   "source": []
  }
 ],
 "metadata": {
  "kernelspec": {
   "display_name": "Python 3",
   "language": "python",
   "name": "python3"
  },
  "language_info": {
   "codemirror_mode": {
    "name": "ipython",
    "version": 3
   },
   "file_extension": ".py",
   "mimetype": "text/x-python",
   "name": "python",
   "nbconvert_exporter": "python",
   "pygments_lexer": "ipython3",
   "version": "3.7.9"
  }
 },
 "nbformat": 4,
 "nbformat_minor": 5
}
