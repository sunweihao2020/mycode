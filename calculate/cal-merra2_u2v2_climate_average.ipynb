{
 "cells": [
  {
   "cell_type": "markdown",
   "metadata": {},
   "source": [
    "# 2021/10/18\n",
    "# 本代码使用merra2资料来计算地面2m风的气候态\n",
    "# 时间跨度1985-2005"
   ]
  },
  {
   "cell_type": "code",
   "execution_count": 1,
   "metadata": {},
   "outputs": [],
   "source": [
    "import os\n",
    "import xarray as xr\n",
    "import numpy as np\n",
    "from cdo import *\n",
    "cdo = Cdo()\n",
    "\n",
    "module_path = [\"/home/sun/mycode/module/\",\"/data5/2019swh/mycode/module/\"]\n",
    "sys.path.append(module_path[0])\n",
    "from module_sun import *"
   ]
  },
  {
   "cell_type": "code",
   "execution_count": 2,
   "metadata": {},
   "outputs": [],
   "source": [
    "path1  =  \"/home/sun/mydown/merra2_u2v2/\"\n",
    "path2  =  \"/home/sun/data/merra2_u2v2_daymean/\"\n",
    "\n",
    "list1  =  os.listdir(path1) ; list1.sort()\n",
    "f0     =  xr.open_dataset(path1+list1[1])\n",
    "#声明最终结果数组\n",
    "u2_climate  =  np.zeros((365,f0.U2M.data.shape[1],f0.U2M.data.shape[2]))\n",
    "v2_climate  =  u2_climate.copy()\n",
    "\n",
    "start  =  1985 ; end  =  1999 # 1999年有部分数据出错了\n",
    "\n"
   ]
  },
  {
   "cell_type": "code",
   "execution_count": 3,
   "metadata": {},
   "outputs": [],
   "source": [
    "for yyyy in range(start,end):\n",
    "    list_year  =  []\n",
    "    for dddd in range(1,366):\n",
    "        date1  =  str(yyyy)+out_date(1981,dddd)\n",
    "        for name1 in list1:\n",
    "            if date1 in name1:\n",
    "                list_year.append(name1)\n",
    "    for dddd in range(0,len(list_year)):\n",
    "        cdo.daymean(input=path1+list_year[dddd],output=path2+list_year[dddd])\n",
    "        f1  =  xr.open_dataset(path2+list_year[dddd])\n",
    "        u2  =  f1.U2M.data[0,:,:]\n",
    "        v2  =  f1.V2M.data[0,:,:]\n",
    "\n",
    "        u2_climate[dddd,:] += u2/(end-start)\n",
    "        v2_climate[dddd,:] += v2/(end-start)"
   ]
  },
  {
   "cell_type": "code",
   "execution_count": 5,
   "metadata": {},
   "outputs": [],
   "source": [
    "ncfile  =  xr.Dataset(\n",
    "    {\n",
    "        \"u2_climate\": ([\"time\", \"lat\", \"lon\"], u2_climate),\n",
    "        \"v2_climate\": ([\"time\", \"lat\", \"lon\"], v2_climate),\n",
    "    },\n",
    "    coords={\n",
    "        \"lon\": ([\"lon\"], f0.lon.data),\n",
    "        \"lat\": ([\"lat\"], f0.lat.data),\n",
    "        \"time\": ([\"time\"], np.linspace(1,365,365)),\n",
    "    },\n",
    ")\n",
    "ncfile.u2_climate.attrs  =  f0.U2M.attrs\n",
    "ncfile.v2_climate.attrs  =  f0.V2M.attrs\n",
    "ncfile[\"lat\"].attrs  =  f0[\"lat\"].attrs\n",
    "ncfile[\"lon\"].attrs  =  f0[\"lon\"].attrs\n",
    "ncfile.to_netcdf(\"/home/sun/data/merra2_u2v2_climate.nc\")"
   ]
  },
  {
   "cell_type": "code",
   "execution_count": null,
   "metadata": {},
   "outputs": [],
   "source": []
  }
 ],
 "metadata": {
  "interpreter": {
   "hash": "bb21428767cca081fb002d22b2cfda1777e23fe90b248b4e838ba62636f1db4b"
  },
  "kernelspec": {
   "display_name": "Python 3.9.6 64-bit ('swh': conda)",
   "name": "python3"
  },
  "language_info": {
   "codemirror_mode": {
    "name": "ipython",
    "version": 3
   },
   "file_extension": ".py",
   "mimetype": "text/x-python",
   "name": "python",
   "nbconvert_exporter": "python",
   "pygments_lexer": "ipython3",
   "version": "3.9.6"
  },
  "orig_nbformat": 4
 },
 "nbformat": 4,
 "nbformat_minor": 2
}
