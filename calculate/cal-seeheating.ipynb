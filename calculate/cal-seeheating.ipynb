{
 "cells": [
  {
   "cell_type": "markdown",
   "id": "employed-registration",
   "metadata": {},
   "source": [
    "### 2021/3/9\n",
    "### 使用到算法计算视热源\n",
    "### 所用资料：合成分析数据"
   ]
  },
  {
   "cell_type": "markdown",
   "id": "canadian-criticism",
   "metadata": {},
   "source": [
    "import os\n",
    "import numpy as np\n",
    "import Ngl, Nio\n",
    "import json\n",
    "from geopy.distance import distance\n",
    "import numpy.ma as ma\n",
    "import sys\n",
    "import math\n",
    "from netCDF4 import Dataset\n",
    "\n",
    "def all_heating(T,uwind,vwind,pt,omega,dimension):\n",
    "    #dimension里储存的是维度-（气压/纬度/经度）\n",
    "\n",
    "\n",
    "    disy = np.array([])\n",
    "    disx = np.array([])\n",
    "\n",
    "    p    = dimension[1]\n",
    "    lat  = dimension[2]\n",
    "    lon  = dimension[3]\n",
    "    time = np.arange(61)+1\n",
    "    T_t = np.gradient(T, time, axis=0)\n",
    "    #处理坐标信息\n",
    "    for i in range(0,len(lat)-1):\n",
    "        disy    =   np.append(disy,distance((lat[i],0),(lat[i+1],0)).m)\n",
    "\n",
    "    for i in range(1,len(lat)-1):\n",
    "        disx    =   np.append(disx,distance((lat[i],lon[0]),(lat[i],lon[1])).m)\n",
    "\n",
    "    location = np.array([0])\n",
    "    for dddd in range(0, len(lat)-1):\n",
    "        location = np.append(location, np.sum(disy[:dddd + 1]))\n",
    "\n",
    "    T_x = ma.array(ma.zeros(T.shape), mask=T.mask)\n",
    "    T_y = ma.array(ma.zeros(T.shape), mask=T.mask)\n",
    "\n",
    "    T_y = np.gradient(T,location,axis = 2)\n",
    "    for latt in range(1,len(lat)-1):\n",
    "        T_x[:,:,latt,:] = np.gradient(T[:,:,latt,:],disx[latt],axis = 2)\n",
    "\n",
    "    term2 = uwind*T_x+vwind*T_y\n",
    "\n",
    "    theta_p = np.gradient(pt,p,axis = 1)\n",
    "    term3 = T\n",
    "    for pp in range(0,len(p)):\n",
    "        term3[:,pp,:,:] = math.pow((pp/1000),0.286)*omega[:,pp,:,:]*theta_p[:,pp,:,:]\n",
    "\n",
    "    term = 1.004*(T_t+term2+term3)         #kJ/(kg K)\n",
    "    return term,T_t,T_x,T_y\n"
   ]
  },
  {
   "cell_type": "code",
   "execution_count": 4,
   "id": "fixed-priest",
   "metadata": {},
   "outputs": [],
   "source": [
    "import os\n",
    "import numpy as np\n",
    "import numpy.ma as ma\n",
    "import Ngl, Nio\n",
    "from netCDF4 import Dataset\n",
    "import json\n",
    "import sys\n",
    "import math\n",
    "sys.path.append(\"/mycode/module/\")\n",
    "from module_writenc import *\n",
    "from module_sun import *\n",
    "#from attribute import *\n",
    "with open(\"/data/onsetdate.json\",'r') as load_f:\n",
    "    a = json.load(load_f)\n",
    "    "
   ]
  },
  {
   "cell_type": "code",
   "execution_count": 5,
   "id": "invisible-kernel",
   "metadata": {},
   "outputs": [],
   "source": [
    "f = Nio.open_file(\"/data/composite3.nc\")"
   ]
  },
  {
   "cell_type": "code",
   "execution_count": null,
   "id": "ranging-charge",
   "metadata": {},
   "outputs": [],
   "source": [
    "w = f.variables[\"OMEGA\"][:]"
   ]
  },
  {
   "cell_type": "code",
   "execution_count": null,
   "id": "hazardous-handle",
   "metadata": {},
   "outputs": [],
   "source": [
    "u = f.variables[\"uwind\"][:]u = f.variables[\"uwind\"][:]"
   ]
  },
  {
   "cell_type": "code",
   "execution_count": null,
   "id": "micro-circle",
   "metadata": {},
   "outputs": [],
   "source": [
    "v = f.variables[\"vwind\"][:]"
   ]
  },
  {
   "cell_type": "code",
   "execution_count": null,
   "id": "existing-participant",
   "metadata": {},
   "outputs": [],
   "source": [
    "t = f.variables[\"T\"][:]"
   ]
  },
  {
   "cell_type": "code",
   "execution_count": null,
   "id": "meaning-overview",
   "metadata": {},
   "outputs": [],
   "source": [
    "lat = f.variables[\"lat\"][:]\n",
    "lon = f.variables[\"lon\"][:]\n",
    "lev = f.variables[\"level\"[:]]"
   ]
  },
  {
   "cell_type": "code",
   "execution_count": null,
   "id": "bearing-oxygen",
   "metadata": {},
   "outputs": [],
   "source": []
  }
 ],
 "metadata": {
  "kernelspec": {
   "display_name": "Python 3",
   "language": "python",
   "name": "python3"
  },
  "language_info": {
   "codemirror_mode": {
    "name": "ipython",
    "version": 3
   },
   "file_extension": ".py",
   "mimetype": "text/x-python",
   "name": "python",
   "nbconvert_exporter": "python",
   "pygments_lexer": "ipython3",
   "version": "3.7.9"
  }
 },
 "nbformat": 4,
 "nbformat_minor": 5
}
