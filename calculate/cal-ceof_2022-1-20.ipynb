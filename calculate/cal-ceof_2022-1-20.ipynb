{
 "cells": [
  {
   "cell_type": "markdown",
   "metadata": {},
   "source": [
    "# 2022/1/20\n",
    "# 给刘肖林计算ceof"
   ]
  },
  {
   "cell_type": "code",
   "execution_count": 7,
   "metadata": {},
   "outputs": [],
   "source": [
    "import os\n",
    "import sys\n",
    "import xarray as xr\n",
    "import numpy as np\n",
    "import scipy.linalg\n",
    "module_path = [\"/home/sun/mycode/module/\",\"/data5/2019swh/mycode/module/\"]\n",
    "sys.path.append(module_path[0])\n",
    "from module_sun import *\n",
    "import cartopy.crs as ccrs"
   ]
  },
  {
   "cell_type": "code",
   "execution_count": 8,
   "metadata": {},
   "outputs": [],
   "source": [
    "path       =  \"/home/sun/data/ceof-lxl/\"\n",
    "f0         =  xr.open_dataset(path+\"NH_oned_hibert_sf_1989_1990.nc\")\n",
    "file_list  =  os.listdir(path) ; file_list.sort()\n",
    "\n",
    "matrix1  =  np.zeros((51,11280*40),dtype=complex)\n",
    "for ff in range(len(file_list)):\n",
    "    f1      =  xr.open_dataset(path+file_list[ff])\n",
    "    number  =  f1.ZR.data + 1J*f1.ZI.data\n",
    "    matrix1[:,ff*11280:(ff+1)*11280] = number"
   ]
  },
  {
   "cell_type": "code",
   "execution_count": 9,
   "metadata": {},
   "outputs": [],
   "source": [
    "S   =  1/51*np.dot(matrix1,matrix1.T.conjugate())\n",
    "values,vectors = scipy.linalg.eigh(S,np.identity(51))\n",
    " \n",
    "space_matrix  =  np.dot(vectors.T.conjugate(),matrix1)"
   ]
  },
  {
   "cell_type": "code",
   "execution_count": 10,
   "metadata": {},
   "outputs": [],
   "source": [
    "v1  =  np.dot(matrix1.T.conjugate(),vectors)/(51 ** 0.5)\n",
    "\n",
    "matrix_eigen  =  np.zeros((51,51),dtype=complex)\n",
    "for i in range(51):\n",
    "    matrix_eigen[i,i]  =  values[i]\n",
    "\n",
    "t1  =  matrix_eigen.copy()\n",
    "t2  =  np.dot(matrix1,v1)\n",
    "for i in range(51):\n",
    "    t1[i,i]  =  t2[i,i] / (51**0.5)*matrix_eigen[i,i]"
   ]
  },
  {
   "cell_type": "code",
   "execution_count": 11,
   "metadata": {},
   "outputs": [],
   "source": [
    "ncfile  =  xr.Dataset(\n",
    "    {\n",
    "        \"v_real\": ([\"axis1\",\"axis2\"], v1.real),\n",
    "        \"v_imag\": ([\"axis1\",\"axis2\"], v1.imag),\n",
    "        \"t_real\": ([\"axis2\",\"axis2\"], t1.real),\n",
    "        \"t_imag\": ([\"axis2\",\"axis2\"], t1.imag),\n",
    "    },\n",
    "    coords={\n",
    "        \"axis1\": ([\"axis1\"], np.linspace(1,v1.shape[0],v1.shape[0])),\n",
    "        \"axis2\": ([\"axis2\"], np.linspace(1,v1.shape[1],v1.shape[1])),\n",
    "    },\n",
    ")\n",
    "ncfile.attrs[\"desctiption\"]  =  \"for lxl ceof 2022-1-29\"\n",
    "ncfile.to_netcdf(\"/home/sun/data/ceof_out_lxl.nc\")\n"
   ]
  }
 ],
 "metadata": {
  "interpreter": {
   "hash": "bb21428767cca081fb002d22b2cfda1777e23fe90b248b4e838ba62636f1db4b"
  },
  "kernelspec": {
   "display_name": "Python 3.9.6 64-bit ('swh': conda)",
   "language": "python",
   "name": "python3"
  },
  "language_info": {
   "codemirror_mode": {
    "name": "ipython",
    "version": 3
   },
   "file_extension": ".py",
   "mimetype": "text/x-python",
   "name": "python",
   "nbconvert_exporter": "python",
   "pygments_lexer": "ipython3",
   "version": "3.10.2"
  },
  "orig_nbformat": 4
 },
 "nbformat": 4,
 "nbformat_minor": 2
}
