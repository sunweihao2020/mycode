{
 "cells": [
  {
   "cell_type": "markdown",
   "id": "public-intelligence",
   "metadata": {},
   "source": [
    "#### 2021/3/31\n",
    "#### 本代码根据海表温度、2m温度、风速来计算海表感热通量的变化"
   ]
  },
  {
   "cell_type": "code",
   "execution_count": 1,
   "id": "tamil-wallet",
   "metadata": {},
   "outputs": [],
   "source": [
    "import os\n",
    "import numpy as np\n",
    "import numpy.ma as ma\n",
    "import Ngl, Nio\n",
    "from netCDF4 import Dataset\n",
    "import json\n",
    "import sys\n",
    "import math\n",
    "sys.path.append(\"/mycode/module/\")\n",
    "from module_sun import *\n",
    "from module_writenc import *\n",
    "#from attribute import *"
   ]
  },
  {
   "cell_type": "code",
   "execution_count": 3,
   "id": "suited-greenhouse",
   "metadata": {},
   "outputs": [],
   "source": [
    "f1 = Nio.open_file(\"/data/composite_OISST_trans.nc\")"
   ]
  },
  {
   "cell_type": "markdown",
   "id": "disabled-insulation",
   "metadata": {},
   "source": [
    "### 先计算出来位温"
   ]
  },
  {
   "cell_type": "code",
   "execution_count": 4,
   "id": "opened-daniel",
   "metadata": {},
   "outputs": [
    {
     "ename": "KeyError",
     "evalue": "'level'",
     "output_type": "error",
     "traceback": [
      "\u001b[0;31m---------------------------------------------------------------------------\u001b[0m",
      "\u001b[0;31mKeyError\u001b[0m                                  Traceback (most recent call last)",
      "\u001b[0;32m<ipython-input-4-c7e3519510ce>\u001b[0m in \u001b[0;36m<module>\u001b[0;34m\u001b[0m\n\u001b[0;32m----> 1\u001b[0;31m \u001b[0mlevel\u001b[0m \u001b[0;34m=\u001b[0m \u001b[0mf1\u001b[0m\u001b[0;34m.\u001b[0m\u001b[0mvariables\u001b[0m\u001b[0;34m[\u001b[0m\u001b[0;34m\"level\"\u001b[0m\u001b[0;34m]\u001b[0m\u001b[0;34m[\u001b[0m\u001b[0;34m:\u001b[0m\u001b[0;34m]\u001b[0m\u001b[0;34m\u001b[0m\u001b[0;34m\u001b[0m\u001b[0m\n\u001b[0m",
      "\u001b[0;32m~/miniconda3/envs/m1/lib/python3.7/site-packages/PyNIO/niodict.py\u001b[0m in \u001b[0;36m__getitem__\u001b[0;34m(self, key)\u001b[0m\n\u001b[1;32m     12\u001b[0m             \u001b[0mval\u001b[0m \u001b[0;34m=\u001b[0m \u001b[0mdict\u001b[0m\u001b[0;34m.\u001b[0m\u001b[0m__getitem__\u001b[0m\u001b[0;34m(\u001b[0m\u001b[0mself\u001b[0m\u001b[0;34m.\u001b[0m\u001b[0mtopdict\u001b[0m\u001b[0;34m,\u001b[0m \u001b[0mnewkey\u001b[0m\u001b[0;34m)\u001b[0m\u001b[0;34m\u001b[0m\u001b[0;34m\u001b[0m\u001b[0m\n\u001b[1;32m     13\u001b[0m         \u001b[0;32melse\u001b[0m\u001b[0;34m:\u001b[0m\u001b[0;34m\u001b[0m\u001b[0;34m\u001b[0m\u001b[0m\n\u001b[0;32m---> 14\u001b[0;31m             \u001b[0mval\u001b[0m \u001b[0;34m=\u001b[0m \u001b[0mdict\u001b[0m\u001b[0;34m.\u001b[0m\u001b[0m__getitem__\u001b[0m\u001b[0;34m(\u001b[0m\u001b[0mself\u001b[0m\u001b[0;34m,\u001b[0m \u001b[0mkey\u001b[0m\u001b[0;34m)\u001b[0m\u001b[0;34m\u001b[0m\u001b[0;34m\u001b[0m\u001b[0m\n\u001b[0m\u001b[1;32m     15\u001b[0m \u001b[0;31m#        print 'GET', key\u001b[0m\u001b[0;34m\u001b[0m\u001b[0;34m\u001b[0m\u001b[0;34m\u001b[0m\u001b[0m\n\u001b[1;32m     16\u001b[0m         \u001b[0;32mreturn\u001b[0m \u001b[0mval\u001b[0m\u001b[0;34m\u001b[0m\u001b[0;34m\u001b[0m\u001b[0m\n",
      "\u001b[0;31mKeyError\u001b[0m: 'level'"
     ]
    }
   ],
   "source": [
    "level = f1.variables[\"level\"][:]"
   ]
  },
  {
   "cell_type": "code",
   "execution_count": 5,
   "id": "virtual-flush",
   "metadata": {},
   "outputs": [
    {
     "name": "stdout",
     "output_type": "stream",
     "text": [
      "Nio file:\tcomposite_OISST_trans.nc\n",
      "   global attributes:\n",
      "   dimensions:\n",
      "      time = 61 // unlimited\n",
      "      lat = 181\n",
      "      lon = 360\n",
      "   variables:\n",
      "      double sst [ time, lat, lon ]\n",
      "         _FillValue :\t1000000000000000\n",
      "         longname :\ttemperature\n",
      "         units :\tdegC\n",
      "         valid_range :\t[-1000000000000000, 1000000000000000]\n",
      "         lonFlip :\tlongitude coordinate variable has been reordered via lonFlip\n",
      "      float time [ time ]\n",
      "         long_name :\ttime\n",
      "      float lat [ lat ]\n",
      "         units :\tdegrees_north\n",
      "      float lon [ lon ]\n",
      "         units :\tdegrees_east\n",
      "\n"
     ]
    }
   ],
   "source": [
    "print(f1)"
   ]
  },
  {
   "cell_type": "code",
   "execution_count": null,
   "id": "korean-hunter",
   "metadata": {},
   "outputs": [],
   "source": []
  }
 ],
 "metadata": {
  "kernelspec": {
   "display_name": "Python 3",
   "language": "python",
   "name": "python3"
  },
  "language_info": {
   "codemirror_mode": {
    "name": "ipython",
    "version": 3
   },
   "file_extension": ".py",
   "mimetype": "text/x-python",
   "name": "python",
   "nbconvert_exporter": "python",
   "pygments_lexer": "ipython3",
   "version": "3.7.9"
  }
 },
 "nbformat": 4,
 "nbformat_minor": 5
}
