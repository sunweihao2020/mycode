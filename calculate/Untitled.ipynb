{
 "cells": [
  {
   "cell_type": "markdown",
   "id": "other-string",
   "metadata": {},
   "source": [
    "### 2021/2/28\n",
    "### 把那些grb文件转换成nc"
   ]
  },
  {
   "cell_type": "code",
   "execution_count": 2,
   "id": "completed-idaho",
   "metadata": {},
   "outputs": [],
   "source": [
    "import os"
   ]
  },
  {
   "cell_type": "code",
   "execution_count": 7,
   "id": "refined-court",
   "metadata": {},
   "outputs": [],
   "source": [
    "path = \"/data1/jra55/\"\n",
    "files = os.listdir(path)"
   ]
  },
  {
   "cell_type": "code",
   "execution_count": 5,
   "id": "arranged-lexington",
   "metadata": {},
   "outputs": [
    {
     "data": {
      "text/plain": [
       "'adhr.1980040100_1980043018'"
      ]
     },
     "execution_count": 5,
     "metadata": {},
     "output_type": "execute_result"
    }
   ],
   "source": [
    "files[1][18:]"
   ]
  },
  {
   "cell_type": "code",
   "execution_count": 8,
   "id": "looking-passing",
   "metadata": {},
   "outputs": [],
   "source": [
    "for names in files:\n",
    "    var = names[18:]+\".nc\"\n",
    "    name = names+\".grib1\"\n",
    "    os.system(\"mv \"+path+names+\" \"+path+name)"
   ]
  },
  {
   "cell_type": "code",
   "execution_count": 9,
   "id": "incoming-symbol",
   "metadata": {},
   "outputs": [],
   "source": [
    "files = os.listdir(path)"
   ]
  },
  {
   "cell_type": "code",
   "execution_count": null,
   "id": "built-missile",
   "metadata": {},
   "outputs": [],
   "source": [
    "for vvvv in files:\n",
    "    os.system(\"ncl_convert2nc \"+vvvv)"
   ]
  }
 ],
 "metadata": {
  "kernelspec": {
   "display_name": "Python 3",
   "language": "python",
   "name": "python3"
  },
  "language_info": {
   "codemirror_mode": {
    "name": "ipython",
    "version": 3
   },
   "file_extension": ".py",
   "mimetype": "text/x-python",
   "name": "python",
   "nbconvert_exporter": "python",
   "pygments_lexer": "ipython3",
   "version": "3.7.9"
  }
 },
 "nbformat": 4,
 "nbformat_minor": 5
}
