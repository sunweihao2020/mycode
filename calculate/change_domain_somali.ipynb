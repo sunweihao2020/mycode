{
 "cells": [
  {
   "cell_type": "code",
   "execution_count": 4,
   "id": "0fa7e086-0960-49d8-b2a5-a0ec6141e996",
   "metadata": {},
   "outputs": [],
   "source": [
    "import numpy as np\n",
    "import xarray as xr\n",
    "\n",
    "\n",
    "bathy  =  np.fromfile(\"/home/sun/data/cesm/topography_20161215.ieeei4\",dtype='>i4')\n",
    "f1     =  xr.open_dataset('/home/sun/data/cesm/gx1v7_151008.nc')\n",
    "\n",
    "lat_extent1  =  [-10,20]\n",
    "lon_extent1  =  [40,60]\n",
    "\n",
    "\n",
    "\n",
    "new_mask   =  f1.grid_imask.data\n",
    "new_bathy  =  bathy\n",
    "new_lat    =  f1.grid_center_lat.data\n",
    "new_lon    =  f1.grid_center_lon.data\n",
    "import math\n",
    "\n",
    "for i in range(0,len(f1.grid_imask)):\n",
    "    if (f1.grid_center_lat.data[i] > math.radians(lat_extent1[0]) and f1.grid_center_lat.data[i] < math.radians(lat_extent1[1])) and (f1.grid_center_lon.data[i] > math.radians(lon_extent1[0]) and f1.grid_center_lon.data[i] < math.radians(lon_extent1[1])):\n",
    "        new_mask[i]  =  1\n",
    "        new_bathy[i] =  47\n",
    "    "
   ]
  },
  {
   "cell_type": "code",
   "execution_count": 5,
   "id": "3189b53a-a510-49cf-bd6a-3498d66b4e2d",
   "metadata": {},
   "outputs": [],
   "source": [
    "ncfile  =  xr.Dataset(\n",
    "    {\n",
    "        \"grid_dims\": ([\"grid_rank\"], f1.grid_dims.data),\n",
    "        \"grid_center_lat\": ([\"grid_size\"], f1.grid_center_lat.data),\n",
    "        \"grid_center_lon\": ([\"grid_size\"], f1.grid_center_lon.data),     \n",
    "        \"grid_area\": ([\"grid_size\"], f1.grid_area.data), \n",
    "        \"grid_imask\": ([\"grid_size\"], f1.grid_imask.data), \n",
    "        \"grid_corner_lat\": ([\"grid_size\",\"grid_corners\"], f1.grid_corner_lat.data),\n",
    "        \"grid_corner_lon\": ([\"grid_size\",\"grid_corners\"], f1.grid_corner_lon.data),\n",
    "    },\n",
    ")\n",
    "ncfile.grid_center_lat.attrs  =  f1.grid_center_lat.attrs\n",
    "ncfile.grid_center_lon.attrs  =  f1.grid_center_lon.attrs\n",
    "ncfile.grid_imask.attrs       =  f1.grid_imask.attrs\n",
    "ncfile.grid_corner_lat.attrs  =  f1.grid_corner_lat.attrs\n",
    "ncfile.grid_corner_lon.attrs  =  f1.grid_corner_lon.attrs\n",
    "ncfile.attrs  =  f1.attrs"
   ]
  },
  {
   "cell_type": "code",
   "execution_count": 6,
   "id": "42aeee8b-971a-453d-b688-1b82728f197d",
   "metadata": {},
   "outputs": [],
   "source": [
    "ncfile.to_netcdf('/home/sun/data/cesm/gx1v7_220410_somali.nc')\n",
    "new_bathy.tofile(\"/home/sun/data/cesm/topography_220410_somali.ieeei4\")"
   ]
  },
  {
   "cell_type": "code",
   "execution_count": null,
   "id": "8928fb8e-09a0-4f44-948d-70ae7cbc4ce3",
   "metadata": {},
   "outputs": [],
   "source": []
  }
 ],
 "metadata": {
  "kernelspec": {
   "display_name": "Python 3 (ipykernel)",
   "language": "python",
   "name": "python3"
  },
  "language_info": {
   "codemirror_mode": {
    "name": "ipython",
    "version": 3
   },
   "file_extension": ".py",
   "mimetype": "text/x-python",
   "name": "python",
   "nbconvert_exporter": "python",
   "pygments_lexer": "ipython3",
   "version": "3.9.12"
  }
 },
 "nbformat": 4,
 "nbformat_minor": 5
}
