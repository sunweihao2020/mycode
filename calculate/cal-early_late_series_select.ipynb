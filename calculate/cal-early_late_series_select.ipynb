{
 "cells": [
  {
   "cell_type": "markdown",
   "metadata": {},
   "source": [
    "# 本代码把早年晚年的时间序列给挑出来，每年的季风爆发前20天内求个平均"
   ]
  },
  {
   "cell_type": "code",
   "execution_count": 1,
   "metadata": {},
   "outputs": [],
   "source": [
    "import xarray as xr\n",
    "import numpy as np\n",
    "import os\n",
    "import math\n",
    "import sys\n",
    "module_path = [\"/home/sun/mycode/module/\",\"/data5/2019swh/mycode/module/\"]\n",
    "sys.path.append(module_path[0])\n",
    "from module_sun import *\n",
    "\n",
    "np.set_printoptions(suppress=True)"
   ]
  },
  {
   "cell_type": "code",
   "execution_count": 2,
   "metadata": {},
   "outputs": [
    {
     "name": "stderr",
     "output_type": "stream",
     "text": [
      "/tmp/ipykernel_183517/1700115208.py:6: DeprecationWarning: `np.int` is a deprecated alias for the builtin `int`. To silence this warning, use `int` by itself. Doing this will not modify any behavior and is safe. When replacing `np.int`, you may wish to use e.g. `np.int64` or `np.int32` to specify the precision. If you wish to review your current use, check the release note link for additional information.\n",
      "Deprecated in NumPy 1.20; for more details and guidance: https://numpy.org/devdocs/release/1.20.0-notes.html#deprecations\n",
      "  early_years = early_years.astype(np.int)\n",
      "/tmp/ipykernel_183517/1700115208.py:7: DeprecationWarning: `np.int` is a deprecated alias for the builtin `int`. To silence this warning, use `int` by itself. Doing this will not modify any behavior and is safe. When replacing `np.int`, you may wish to use e.g. `np.int64` or `np.int32` to specify the precision. If you wish to review your current use, check the release note link for additional information.\n",
      "Deprecated in NumPy 1.20; for more details and guidance: https://numpy.org/devdocs/release/1.20.0-notes.html#deprecations\n",
      "  early_days = early_days.astype(np.int)\n",
      "/tmp/ipykernel_183517/1700115208.py:13: DeprecationWarning: `np.int` is a deprecated alias for the builtin `int`. To silence this warning, use `int` by itself. Doing this will not modify any behavior and is safe. When replacing `np.int`, you may wish to use e.g. `np.int64` or `np.int32` to specify the precision. If you wish to review your current use, check the release note link for additional information.\n",
      "Deprecated in NumPy 1.20; for more details and guidance: https://numpy.org/devdocs/release/1.20.0-notes.html#deprecations\n",
      "  late_years = late_years.astype(np.int)\n",
      "/tmp/ipykernel_183517/1700115208.py:14: DeprecationWarning: `np.int` is a deprecated alias for the builtin `int`. To silence this warning, use `int` by itself. Doing this will not modify any behavior and is safe. When replacing `np.int`, you may wish to use e.g. `np.int64` or `np.int32` to specify the precision. If you wish to review your current use, check the release note link for additional information.\n",
      "Deprecated in NumPy 1.20; for more details and guidance: https://numpy.org/devdocs/release/1.20.0-notes.html#deprecations\n",
      "  late_days = late_days.astype(np.int)\n"
     ]
    }
   ],
   "source": [
    "#获取时间\n",
    "with open(\"/home/sun/qomo-data/early_date.json\",'r') as load_f:\n",
    "    a = json.load(load_f)\n",
    "early_years = np.array(list(a.keys()))\n",
    "early_days = np.array(list(a.values()))\n",
    "early_years = early_years.astype(np.int)\n",
    "early_days = early_days.astype(np.int)\n",
    "\n",
    "with open(\"/home/sun/qomo-data/late_date.json\",'r') as load_f:\n",
    "    a = json.load(load_f)\n",
    "late_years = np.array(list(a.keys()))\n",
    "late_days = np.array(list(a.values()))\n",
    "late_years = late_years.astype(np.int)\n",
    "late_days = late_days.astype(np.int)"
   ]
  },
  {
   "cell_type": "code",
   "execution_count": 3,
   "metadata": {},
   "outputs": [
    {
     "name": "stdout",
     "output_type": "stream",
     "text": [
      "134.33333333333334\n",
      "0514\n"
     ]
    }
   ],
   "source": [
    "print(np.mean(late_days))\n",
    "print(out_date(1981,134))"
   ]
  },
  {
   "cell_type": "code",
   "execution_count": 4,
   "metadata": {},
   "outputs": [],
   "source": [
    "test  =  xr.open_dataset(\"/home/sun/qomo-data/burst_seris/1980_composite_uwind.nc\")\n",
    "testv  =  xr.open_dataset(\"/home/sun/qomo-data/burst_seris/1980_composite_vwind.nc\")\n",
    "path  =  \"/home/sun/qomo-data/burst_seris/\"\n",
    "#声明存储的数组\n",
    "early_u  =  np.zeros((len(early_years),test.uwind.data.shape[1],test.uwind.data.shape[2],test.uwind.data.shape[3]))  #早年的年份数、层次、维度、经度\n",
    "early_v  =  early_u.copy()\n",
    "late_u   =  np.zeros((len(late_years),test.uwind.data.shape[1],test.uwind.data.shape[2],test.uwind.data.shape[3]))  #晚年的年份数、层次、维度、经度\n",
    "late_v   =  late_u.copy()\n",
    "\n",
    "for i in range(0,len(early_years)):\n",
    "    f_u  =  xr.open_dataset(path+str(early_years[i])+\"_composite_uwind.nc\")\n",
    "    f_v  =  xr.open_dataset(path+str(early_years[i])+\"_composite_vwind.nc\")\n",
    "\n",
    "    early_u[i,:]  =  np.average(f_u.uwind.data[0:20,:],axis=0)\n",
    "    early_v[i,:]  =  np.average(f_v.vwind.data[0:20,:],axis=0)\n",
    "\n",
    "for i in range(0,len(late_years)):\n",
    "    f_u  =  xr.open_dataset(path+str(late_years[i])+\"_composite_uwind.nc\")\n",
    "    f_v  =  xr.open_dataset(path+str(late_years[i])+\"_composite_vwind.nc\")\n",
    "\n",
    "    late_u[i,:]  =  np.average(f_u.uwind.data[0:20,:],axis=0)\n",
    "    late_v[i,:]  =  np.average(f_v.vwind.data[0:20,:],axis=0)"
   ]
  },
  {
   "cell_type": "code",
   "execution_count": 5,
   "metadata": {},
   "outputs": [],
   "source": [
    "ncfile  =  xr.Dataset(\n",
    "    {\n",
    "        \"early_u\": ([\"early_series\", \"lev\", \"lat\", \"lon\"], early_u),\n",
    "        \"early_v\": ([\"early_series\", \"lev\", \"lat\", \"lon\"], early_v),\n",
    "        \"late_u\":  ([\"late_series\", \"lev\", \"lat\", \"lon\"], late_u),\n",
    "        \"late_v\":  ([\"late_series\", \"lev\", \"lat\", \"lon\"], late_v),\n",
    "    },\n",
    "    coords={\n",
    "        \"lon\": ([\"lon\"], test.lon.data),\n",
    "        \"lat\": ([\"lat\"], test.lat.data),\n",
    "        \"lev\": ([\"lev\"], test.level.data),\n",
    "        \"early_series\": ([\"early_series\"], np.linspace(1,len(early_years),len(early_years))),\n",
    "        \"late_series\":  ([\"late_series\"],  np.linspace(1,len(late_years),len(late_years))),\n",
    "    },\n",
    ")\n",
    "ncfile.early_u.attrs  =  test.uwind.attrs\n",
    "ncfile.early_v.attrs  =  testv.vwind.attrs\n",
    "ncfile.late_u.attrs   =  test.uwind.attrs\n",
    "ncfile.late_v.attrs   =  testv.vwind.attrs\n",
    "ncfile[\"lat\"].attrs  =  test[\"lat\"].attrs\n",
    "ncfile[\"lon\"].attrs  =  test[\"lon\"].attrs\n",
    "ncfile[\"lev\"].attrs  =  test[\"level\"].attrs\n",
    "\n",
    "ncfile.attrs[\"description\"]  =  \"In this file,I computed 20days average before monsoon onset,D0-30~D0-10.One time means this years average\"\n",
    "ncfile.attrs[\"created time\"] =  \"2021-10-22\"\n",
    "ncfile.to_netcdf(\"/home/sun/data/early_late_year_average_before_onset_wind.nc\")"
   ]
  },
  {
   "cell_type": "code",
   "execution_count": null,
   "metadata": {},
   "outputs": [],
   "source": []
  }
 ],
 "metadata": {
  "interpreter": {
   "hash": "bb21428767cca081fb002d22b2cfda1777e23fe90b248b4e838ba62636f1db4b"
  },
  "kernelspec": {
   "display_name": "Python 3 (ipykernel)",
   "language": "python",
   "name": "python3"
  },
  "language_info": {
   "codemirror_mode": {
    "name": "ipython",
    "version": 3
   },
   "file_extension": ".py",
   "mimetype": "text/x-python",
   "name": "python",
   "nbconvert_exporter": "python",
   "pygments_lexer": "ipython3",
   "version": "3.9.7"
  }
 },
 "nbformat": 4,
 "nbformat_minor": 4
}
