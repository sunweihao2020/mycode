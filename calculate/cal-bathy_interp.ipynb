{
 "cells": [
  {
   "cell_type": "markdown",
   "metadata": {},
   "source": [
    "## 2022-6-8\n",
    "## 本代码对印度大陆那里的海洋水深进行插值"
   ]
  },
  {
   "cell_type": "code",
   "execution_count": 1,
   "metadata": {},
   "outputs": [],
   "source": [
    "import numpy as np\n",
    "bathy  =  np.fromfile(\"/home/sun/data/cesm/topography_20161215.ieeei4\",dtype='>i4')\n",
    "\n",
    "lat_extent3  =  [0,23]\n",
    "lon_extent3  =  [65,90]\n",
    "\n",
    "lat_index1 = 187 ; lat_index2 = 262\n",
    "lon_index1 = 92  ; lon_index2 = 116"
   ]
  },
  {
   "cell_type": "code",
   "execution_count": 2,
   "metadata": {},
   "outputs": [
    {
     "data": {
      "text/plain": [
       "(122880,)"
      ]
     },
     "execution_count": 2,
     "metadata": {},
     "output_type": "execute_result"
    }
   ],
   "source": [
    "bathy.shape"
   ]
  },
  {
   "cell_type": "code",
   "execution_count": null,
   "metadata": {},
   "outputs": [],
   "source": []
  }
 ],
 "metadata": {
  "interpreter": {
   "hash": "6d80442a03a2753f0cf812235f87c74fc29a6138bed24c4d4616c2fd5e3a88c0"
  },
  "kernelspec": {
   "display_name": "Python 3.9.12 ('swh')",
   "language": "python",
   "name": "python3"
  },
  "language_info": {
   "codemirror_mode": {
    "name": "ipython",
    "version": 3
   },
   "file_extension": ".py",
   "mimetype": "text/x-python",
   "name": "python",
   "nbconvert_exporter": "python",
   "pygments_lexer": "ipython3",
   "version": "3.9.12"
  },
  "orig_nbformat": 4
 },
 "nbformat": 4,
 "nbformat_minor": 2
}
