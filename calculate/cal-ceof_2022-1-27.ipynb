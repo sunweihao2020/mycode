{
 "cells": [
  {
   "cell_type": "markdown",
   "metadata": {},
   "source": [
    "# 2022-1-27\n",
    "# 本代码计算ceof"
   ]
  },
  {
   "cell_type": "code",
   "execution_count": 8,
   "metadata": {},
   "outputs": [],
   "source": [
    "import os\n",
    "import sys\n",
    "import xarray as xr\n",
    "import numpy as np\n",
    "import scipy.linalg\n",
    "module_path = [\"/home/sun/mycode/module/\",\"/data5/2019swh/mycode/module/\"]\n",
    "sys.path.append(module_path[0])\n",
    "from module_sun import *\n",
    "import cartopy.crs as ccrs"
   ]
  },
  {
   "cell_type": "code",
   "execution_count": 9,
   "metadata": {},
   "outputs": [],
   "source": [
    "path0 = \"/home/sun/data/ceof-lxl/2022-1-27/\"\n",
    "f1    = xr.open_dataset(path0+\"PC1_neg_oned_hibert_sf.nc\")\n",
    "f2    = xr.open_dataset(path0+\"PC1_pos_oned_hibert_sf.nc\")\n",
    "f3    = xr.open_dataset(path0+\"PC2_neg_oned_hibert_sf.nc\")\n",
    "f4    = xr.open_dataset(path0+\"PC2_pos_oned_hibert_sf.nc\")\n"
   ]
  },
  {
   "cell_type": "code",
   "execution_count": 13,
   "metadata": {},
   "outputs": [],
   "source": [
    "matrix1  =  f1.ZR.data + 1J*f1.ZI.data\n",
    "matrix2  =  f2.ZR.data + 1J*f2.ZI.data\n",
    "matrix3  =  f3.ZR.data + 1J*f3.ZI.data\n",
    "matrix4  =  f4.ZR.data + 1J*f4.ZI.data\n",
    "\n",
    "s1       =  1/255 * np.dot(matrix1,matrix1.T.conjugate())\n",
    "s2       =  1/255 * np.dot(matrix2,matrix2.T.conjugate())\n",
    "s3       =  1/255 * np.dot(matrix3,matrix3.T.conjugate())\n",
    "s4       =  1/255 * np.dot(matrix4,matrix4.T.conjugate())\n",
    "\n",
    "values1,vectors1 = scipy.linalg.eigh(s1,np.identity(255))\n",
    "values2,vectors2 = scipy.linalg.eigh(s2,np.identity(255))\n",
    "values3,vectors3 = scipy.linalg.eigh(s3,np.identity(255))\n",
    "values4,vectors4 = scipy.linalg.eigh(s4,np.identity(306))\n",
    "\n",
    "space_matrix1    =  np.dot(vectors1.T.conjugate(),matrix1)\n",
    "space_matrix2    =  np.dot(vectors2.T.conjugate(),matrix2)\n",
    "space_matrix3    =  np.dot(vectors3.T.conjugate(),matrix3)\n",
    "space_matrix4    =  np.dot(vectors4.T.conjugate(),matrix4)\n",
    "\n",
    "v1  =  np.dot(matrix1.T.conjugate(),vectors1)/(255 ** 0.5)\n",
    "v2  =  np.dot(matrix2.T.conjugate(),vectors2)/(255 ** 0.5)\n",
    "v3  =  np.dot(matrix3.T.conjugate(),vectors3)/(255 ** 0.5)\n",
    "v4  =  np.dot(matrix4.T.conjugate(),vectors4)/(306 ** 0.5)\n",
    "\n",
    "matrix_eigen1  =  np.zeros((255,255),dtype=complex)\n",
    "matrix_eigen2  =  np.zeros((255,255),dtype=complex)\n",
    "matrix_eigen3  =  np.zeros((255,255),dtype=complex)\n",
    "matrix_eigen4  =  np.zeros((306,306),dtype=complex)\n",
    "\n",
    "for i in range(255):\n",
    "    matrix_eigen1[i,i]  =  values1[i]\n",
    "    matrix_eigen2[i,i]  =  values2[i]\n",
    "    matrix_eigen3[i,i]  =  values3[i]\n",
    "    \n",
    "\n",
    "for i in range(306):\n",
    "    matrix_eigen4[i,i]  =  values4[i]\n",
    "\n",
    "t1   =  matrix_eigen1.copy()\n",
    "tt1  =  np.dot(matrix1,v1)\n",
    "t2   =  matrix_eigen2.copy()\n",
    "tt2  =  np.dot(matrix2,v2)\n",
    "t3   =  matrix_eigen3.copy()\n",
    "tt3  =  np.dot(matrix3,v3)\n",
    "t4   =  matrix_eigen4.copy()\n",
    "tt4  =  np.dot(matrix4,v4)\n",
    "\n",
    "for i in range(255):\n",
    "    t1[i,i]  =  tt1[i,i] / (255**0.5)*matrix_eigen1[i,i]\n",
    "    t2[i,i]  =  tt2[i,i] / (255**0.5)*matrix_eigen2[i,i]\n",
    "    t3[i,i]  =  tt3[i,i] / (255**0.5)*matrix_eigen3[i,i]\n",
    "    \n",
    "\n",
    "for i in range(306):\n",
    "    t4[i,i]  =  tt4[i,i] / (306**0.5)*matrix_eigen4[i,i]\n",
    "\n",
    "ncfile  =  xr.Dataset(\n",
    "    {\n",
    "        \"v1_real\": ([\"axis1\",\"axis2\"], v1.real),\n",
    "        \"v1_imag\": ([\"axis1\",\"axis2\"], v1.imag),\n",
    "        \"t1_real\": ([\"axis2\",\"axis2\"], t1.real),\n",
    "        \"t1_imag\": ([\"axis2\",\"axis2\"], t1.imag),\n",
    "        \"v2_real\": ([\"axis1\",\"axis2\"], v2.real),\n",
    "        \"v2_imag\": ([\"axis1\",\"axis2\"], v2.imag),\n",
    "        \"t2_real\": ([\"axis2\",\"axis2\"], t2.real),\n",
    "        \"t2_imag\": ([\"axis2\",\"axis2\"], t2.imag),\n",
    "        \"v3_real\": ([\"axis1\",\"axis2\"], v3.real),\n",
    "        \"v3_imag\": ([\"axis1\",\"axis2\"], v3.imag),\n",
    "        \"t3_real\": ([\"axis2\",\"axis2\"], t3.real),\n",
    "        \"t3_imag\": ([\"axis2\",\"axis2\"], t3.imag),\n",
    "        \"v4_real\": ([\"axis3\",\"axis4\"], v4.real),\n",
    "        \"v4_imag\": ([\"axis3\",\"axis4\"], v4.imag),\n",
    "        \"t4_real\": ([\"axis4\",\"axis4\"], t4.real),\n",
    "        \"t4_imag\": ([\"axis4\",\"axis4\"], t4.imag),\n",
    "    },\n",
    "    coords={\n",
    "        \"axis1\": ([\"axis1\"], np.linspace(1,v1.shape[0],v1.shape[0])),\n",
    "        \"axis2\": ([\"axis2\"], np.linspace(1,v1.shape[1],v1.shape[1])),\n",
    "        \"axis3\": ([\"axis3\"], np.linspace(1,v4.shape[0],v4.shape[0])),\n",
    "        \"axis4\": ([\"axis4\"], np.linspace(1,v4.shape[1],v4.shape[1])),\n",
    "    },\n",
    ")\n",
    "ncfile.attrs[\"desctiption\"]  =  \"for lxl ceof 2022-1-27\"\n",
    "ncfile.to_netcdf(\"/home/sun/data/ceof_out_lxl_2022-1-27.nc\")"
   ]
  },
  {
   "cell_type": "code",
   "execution_count": null,
   "metadata": {},
   "outputs": [],
   "source": []
  }
 ],
 "metadata": {
  "interpreter": {
   "hash": "09aec975b5145a786b2f773cc315924d5737ba8b7aecad4e1d701f66e51c0c6e"
  },
  "kernelspec": {
   "display_name": "Python 3.10.2 64-bit ('metview': conda)",
   "language": "python",
   "name": "python3"
  },
  "language_info": {
   "codemirror_mode": {
    "name": "ipython",
    "version": 3
   },
   "file_extension": ".py",
   "mimetype": "text/x-python",
   "name": "python",
   "nbconvert_exporter": "python",
   "pygments_lexer": "ipython3",
   "version": "3.10.2"
  },
  "orig_nbformat": 4
 },
 "nbformat": 4,
 "nbformat_minor": 2
}
