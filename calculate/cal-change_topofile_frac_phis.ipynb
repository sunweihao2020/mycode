{
 "cells": [
  {
   "cell_type": "markdown",
   "id": "f1a2d823-a79c-4c2d-bcad-abacfc84adbe",
   "metadata": {},
   "source": [
    "## 2021/9/7\n",
    "### 对地形进行修改，更改海陆分布"
   ]
  },
  {
   "cell_type": "code",
   "execution_count": 1,
   "id": "e451a2ef-8a54-424f-b402-9a4f130d2707",
   "metadata": {},
   "outputs": [],
   "source": [
    "import xarray as xr\n",
    "import numpy as np\n",
    "\n",
    "f1  =  xr.open_dataset(\"/home/sun/data/fv_0.9x1.25_nc3000_Nsw042_Nrs008_Co060_Fi001_ZR_sgh30_24km_GRNL_c170103.nc\")"
   ]
  },
  {
   "cell_type": "code",
   "execution_count": 2,
   "id": "d37a9a87-a85f-4c87-be79-51e58f2621fb",
   "metadata": {},
   "outputs": [],
   "source": [
    "zero_phis = f1[\"PHIS\"].sel(lon=slice(70,90),lat=slice(0,20)).data[1,10]\n",
    "zero_frac = f1[\"LANDFRAC\"].sel(lon=slice(70,90),lat=slice(0,20)).data[1,10]\n",
    "\n",
    "for i in range(0,f1.lat.data.shape[0]):\n",
    "    for j in range(0,f1.lon.data.shape[0]):\n",
    "        if 0<=f1.lat.data[i]<=20:\n",
    "            if 70<=f1.lon.data[j]<=90:\n",
    "                f1[\"PHIS\"].data[i,j] = zero_phis\n",
    "                f1[\"LANDFRAC\"].data[i,j]= zero_frac\n",
    "            else:\n",
    "                continue\n",
    "        else:\n",
    "            continue"
   ]
  },
  {
   "cell_type": "code",
   "execution_count": 3,
   "id": "a4f5214b-54d8-485a-bc71-3d3a5c53fb3b",
   "metadata": {},
   "outputs": [],
   "source": [
    "#f1[\"PHIS\"].sel(lon=slice(70,90),lat=slice(0,20)).data[:,:] = zero_phis\n",
    "#f1[\"LANDFRAC\"].sel(lon=slice(70,90),lat=slice(0,20)).data[:,:] = zero_frac"
   ]
  },
  {
   "cell_type": "code",
   "execution_count": 5,
   "id": "115790bd-49a4-4c9c-9492-f1b15a60d05c",
   "metadata": {},
   "outputs": [],
   "source": [
    "f1.to_netcdf(\"/home/sun/data/fv_india_to_ocean.nc\")"
   ]
  }
 ],
 "metadata": {
  "kernelspec": {
   "display_name": "Python 3 (ipykernel)",
   "language": "python",
   "name": "python3"
  },
  "language_info": {
   "codemirror_mode": {
    "name": "ipython",
    "version": 3
   },
   "file_extension": ".py",
   "mimetype": "text/x-python",
   "name": "python",
   "nbconvert_exporter": "python",
   "pygments_lexer": "ipython3",
   "version": "3.8.10"
  }
 },
 "nbformat": 4,
 "nbformat_minor": 5
}
