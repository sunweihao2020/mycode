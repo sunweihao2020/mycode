{
 "cells": [
  {
   "cell_type": "markdown",
   "id": "close-abuse",
   "metadata": {},
   "source": [
    "#### 本代码对下载的资料进行求均值处理\n",
    "#### 处理资料：/data1/merra/single\n"
   ]
  },
  {
   "cell_type": "code",
   "execution_count": 1,
   "id": "worse-organizer",
   "metadata": {},
   "outputs": [],
   "source": [
    "import os\n",
    "import numpy as np\n",
    "import numpy.ma as ma\n",
    "import Ngl, Nio\n",
    "from netCDF4 import Dataset\n",
    "import json\n",
    "import sys\n",
    "import math\n",
    "sys.path.append(\"/mycode/module/\")\n",
    "from module_sun import *\n",
    "from module_writenc import *\n",
    "from attribute import *"
   ]
  },
  {
   "cell_type": "code",
   "execution_count": 2,
   "id": "biological-webster",
   "metadata": {},
   "outputs": [],
   "source": [
    "path = \"/data1/merra/single/\""
   ]
  },
  {
   "cell_type": "code",
   "execution_count": 10,
   "id": "living-mitchell",
   "metadata": {},
   "outputs": [],
   "source": [
    "file_list = os.listdir(path)\n",
    "file_list.sort()\n",
    "for file in file_list[1:3]:\n",
    "    f0 = Nio.open_file(path+file)\n",
    "\n",
    "    varNames = f0.variables.keys()\n",
    "    vars = list(varNames)\n",
    "    time = f0.variables[vars[0]][:]\n",
    "    lon = f0.variables[vars[1]][:]\n",
    "    lat = f0.variables[vars[2]][:]\n",
    "    del vars[0:3]\n",
    "    for vvvv in vars:\n",
    "        exec(vvvv+\"=f0.variables['\"+vvvv+\"'][:]\")\n",
    "        exec(vvvv+\"1=np.average(\"+vvvv+\",axis=0)\")\n",
    "        \n",
    "    time = np.array([1])\n",
    "    fout = create_nc_single('/data1/merra/single_daily/',file[0:40]+'_daily',time,lon,lat)\n",
    "    add_variables(fout,'PS',PS1,a_ps,0)\n",
    "    a_qv2m = {'longname': '2-meter_specific_humidity', 'units': 'kg kg-1', 'valid_range': [-1000000000000000.0, 1000000000000000.0]}\n",
    "    add_variables(fout,'QV2M',QV2M1,a_qv2m,0)\n",
    "    add_variables(fout,'SLP',SLP1,a_ps,0)\n",
    "    add_variables(fout,'T2M',T2M1,a_T,0)\n",
    "    add_variables(fout,'TS',TS1,a_T,0)\n",
    "    add_variables(fout,'V2M',V2M1,a_vwind,0)\n",
    "    add_variables(fout,'U2M',U2M1,a_uwind,0)\n",
    "\n",
    "\n",
    "    fout.close()"
   ]
  },
  {
   "cell_type": "code",
   "execution_count": 18,
   "id": "motivated-johnston",
   "metadata": {},
   "outputs": [
    {
     "data": {
      "text/plain": [
       "'.nc'"
      ]
     },
     "execution_count": 18,
     "metadata": {},
     "output_type": "execute_result"
    }
   ],
   "source": [
    "file[39:]"
   ]
  },
  {
   "cell_type": "code",
   "execution_count": null,
   "id": "charming-ivory",
   "metadata": {},
   "outputs": [],
   "source": []
  }
 ],
 "metadata": {
  "kernelspec": {
   "display_name": "Python 3 (ipykernel)",
   "language": "python",
   "name": "python3"
  },
  "language_info": {
   "codemirror_mode": {
    "name": "ipython",
    "version": 3
   },
   "file_extension": ".py",
   "mimetype": "text/x-python",
   "name": "python",
   "nbconvert_exporter": "python",
   "pygments_lexer": "ipython3",
   "version": "3.9.6"
  }
 },
 "nbformat": 4,
 "nbformat_minor": 5
}
