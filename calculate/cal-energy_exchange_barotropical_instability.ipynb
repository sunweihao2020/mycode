{
 "cells": [
  {
   "cell_type": "code",
   "execution_count": 1,
   "id": "eastern-devices",
   "metadata": {},
   "outputs": [],
   "source": [
    "import os\n",
    "import numpy as np\n",
    "import Ngl, Nio\n",
    "import json\n",
    "from geopy.distance import distance\n",
    "import numpy.ma as ma\n",
    "import sys\n",
    "import math\n",
    "import copy\n",
    "import xarray as xr\n",
    "from netCDF4 import Dataset\n",
    "sys.path.append(\"/mycode/module/\")\n",
    "from module_cal_heating import *\n",
    "import gc\n",
    "from module_writenc import *"
   ]
  },
  {
   "cell_type": "code",
   "execution_count": 2,
   "id": "sharing-title",
   "metadata": {},
   "outputs": [],
   "source": [
    "data = xr.open_dataset(\"/data/composite3.nc\")"
   ]
  },
  {
   "cell_type": "code",
   "execution_count": 3,
   "id": "unlike-walter",
   "metadata": {},
   "outputs": [],
   "source": [
    "u = data[\"uwind\"].sel(lat=slice(-10,30),level=850).isel(time=slice(0,40))\n",
    "v = data[\"vwind\"].sel(lat=slice(-10,30),level=850).isel(time=slice(0,40))"
   ]
  },
  {
   "cell_type": "code",
   "execution_count": 4,
   "id": "double-newsletter",
   "metadata": {},
   "outputs": [],
   "source": [
    "u_a  =  u.mean(\"lon\").data\n",
    "v_a  =  v.mean(\"lon\").data"
   ]
  },
  {
   "cell_type": "code",
   "execution_count": 5,
   "id": "statistical-impossible",
   "metadata": {},
   "outputs": [],
   "source": [
    "du   =  copy.deepcopy(u.data)\n",
    "dv   =  copy.deepcopy(u.data)\n",
    "\n",
    "for tt in range(0,40):\n",
    "    for latt in range(0,81):\n",
    "        du[tt,latt,:]  =  u.data[tt,latt,:] - u_a[tt,latt]\n",
    "        dv[tt,latt,:]  =  v.data[tt,latt,:] - v_a[tt,latt]"
   ]
  },
  {
   "cell_type": "code",
   "execution_count": 6,
   "id": "perceived-founder",
   "metadata": {},
   "outputs": [],
   "source": [
    "lat  =  data[\"uwind\"].lat.sel(lat=slice(-10,30)).data\n",
    "lon  =  data[\"uwind\"].lon.data"
   ]
  },
  {
   "cell_type": "code",
   "execution_count": 7,
   "id": "educational-diabetes",
   "metadata": {},
   "outputs": [],
   "source": [
    "disy = np.array([])\n",
    "for i in range(0,len(lat)-1):\n",
    "    disy    =   np.append(disy,distance((lat[i],0),(lat[i+1],0)).m)\n",
    "location = np.array([0])\n",
    "for dddd in range(0, len(lat)-1):\n",
    "    location = np.append(location, np.sum(disy[:dddd + 1]))"
   ]
  },
  {
   "cell_type": "code",
   "execution_count": 8,
   "id": "serial-dinner",
   "metadata": {},
   "outputs": [],
   "source": [
    "u_ay  =  np.gradient(u_a,location,axis=1)"
   ]
  },
  {
   "cell_type": "code",
   "execution_count": 9,
   "id": "graduate-prefix",
   "metadata": {},
   "outputs": [],
   "source": [
    "energy = ma.zeros(du.shape)\n",
    "for tt in range(0,40):\n",
    "    for latt in range(0,81):\n",
    "        energy[tt,latt,:] = du[tt,latt,:] * dv[tt,latt,:] * u_ay[tt,latt] * (-1)\n",
    "        \n"
   ]
  },
  {
   "cell_type": "code",
   "execution_count": 10,
   "id": "asian-roommate",
   "metadata": {},
   "outputs": [],
   "source": [
    "a_q = {'longname': 'energy_exchange','units': '1','valid_range': [-100000000000000000000000000000000000.0, 1000000000000000000000000000000000.0]}\n",
    "time = np.arange(0,40)\n",
    "fout = create_nc_single('/data/','composite-energy_exchange_850',time,lon,lat)\n",
    "add_variables(fout,'energy',energy,a_q,0)\n",
    "fout.close()"
   ]
  },
  {
   "cell_type": "code",
   "execution_count": null,
   "id": "rational-willow",
   "metadata": {},
   "outputs": [],
   "source": []
  }
 ],
 "metadata": {
  "kernelspec": {
   "display_name": "Python 3",
   "language": "python",
   "name": "python3"
  },
  "language_info": {
   "codemirror_mode": {
    "name": "ipython",
    "version": 3
   },
   "file_extension": ".py",
   "mimetype": "text/x-python",
   "name": "python",
   "nbconvert_exporter": "python",
   "pygments_lexer": "ipython3",
   "version": "3.7.9"
  }
 },
 "nbformat": 4,
 "nbformat_minor": 5
}
