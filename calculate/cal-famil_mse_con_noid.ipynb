{
 "cells": [
  {
   "cell_type": "markdown",
   "metadata": {},
   "source": [
    "# 2021/11/3\n",
    "# 计算famil实验中的MSE"
   ]
  },
  {
   "cell_type": "code",
   "execution_count": 1,
   "metadata": {},
   "outputs": [],
   "source": [
    "import os\n",
    "import sys\n",
    "import xarray as xr\n",
    "import numpy as np\n",
    "module_path = [\"/home/sun/mycode/module/\",\"/data5/2019swh/mycode/module/\"]\n",
    "sys.path.append(module_path[0])\n",
    "from module_sun import *"
   ]
  },
  {
   "cell_type": "code",
   "execution_count": 2,
   "metadata": {},
   "outputs": [],
   "source": [
    "def cal_mse(T,q,z):\n",
    "    #模式数据有虚假数据，这里要进行修正，位势高度小于0处都让其等于0\n",
    "    T[z<0]  =  0\n",
    "    q[z<0]  =  0\n",
    "    z[z<0]  =  0\n",
    "    cp  =  1.004 #kj/kg*K\n",
    "    lv  =  2.5e3 #kj/kg\n",
    "    g   =  9.8 #m/s^2\n",
    "\n",
    "    mse  =  cp*T+lv*q+9.8*z/1000\n",
    "\n",
    "    return mse,q"
   ]
  },
  {
   "cell_type": "code",
   "execution_count": 3,
   "metadata": {},
   "outputs": [],
   "source": [
    "path  =  \"/home/sun/qomo-data/zhuang_plev/\"\n",
    "\n",
    "#控制实验数据\n",
    "con_t  =  xr.open_dataset(path+\"plev_con_T.nc\")\n",
    "con_q  =  xr.open_dataset(path+\"plev_con_Q.nc\")\n",
    "con_h  =  xr.open_dataset(path+\"plev_con_Z3.nc\")\n",
    "#noid实验数据\n",
    "id_t  =  xr.open_dataset(path+\"plev_id_T.nc\")\n",
    "id_q  =  xr.open_dataset(path+\"plev_id_Q.nc\")\n",
    "id_h  =  xr.open_dataset(path+\"plev_id_Z3.nc\")"
   ]
  },
  {
   "cell_type": "code",
   "execution_count": 4,
   "metadata": {},
   "outputs": [],
   "source": [
    "con_mse,testq  =  cal_mse(con_t.T.data,con_q.Q.data,con_h.Z3.data)\n",
    "id_mse,testq2  =  cal_mse(id_t.T.data,id_q.Q.data,id_h.Z3.data)"
   ]
  },
  {
   "cell_type": "markdown",
   "metadata": {},
   "source": [
    "# 这里求个积分"
   ]
  },
  {
   "cell_type": "code",
   "execution_count": null,
   "metadata": {},
   "outputs": [
    {
     "ename": "Error",
     "evalue": "Kernel is dead",
     "output_type": "error",
     "traceback": [
      "Error: Kernel is dead",
      "at g._sendKernelShellControl (/home/sun/.vscode-server/extensions/ms-toolsai.jupyter-2021.9.1101343141/out/client/extension.js:52:1006305)",
      "at g.sendShellMessage (/home/sun/.vscode-server/extensions/ms-toolsai.jupyter-2021.9.1101343141/out/client/extension.js:52:1006074)",
      "at g.requestExecute (/home/sun/.vscode-server/extensions/ms-toolsai.jupyter-2021.9.1101343141/out/client/extension.js:52:1008616)",
      "at d.requestExecute (/home/sun/.vscode-server/extensions/ms-toolsai.jupyter-2021.9.1101343141/out/client/extension.js:37:328037)",
      "at S.requestExecute (/home/sun/.vscode-server/extensions/ms-toolsai.jupyter-2021.9.1101343141/out/client/extension.js:32:19306)",
      "at w.executeCodeCell (/home/sun/.vscode-server/extensions/ms-toolsai.jupyter-2021.9.1101343141/out/client/extension.js:52:300924)",
      "at w.execute (/home/sun/.vscode-server/extensions/ms-toolsai.jupyter-2021.9.1101343141/out/client/extension.js:52:300551)",
      "at w.start (/home/sun/.vscode-server/extensions/ms-toolsai.jupyter-2021.9.1101343141/out/client/extension.js:52:296215)",
      "at async t.CellExecutionQueue.executeQueuedCells (/home/sun/.vscode-server/extensions/ms-toolsai.jupyter-2021.9.1101343141/out/client/extension.js:52:310950)",
      "at async t.CellExecutionQueue.start (/home/sun/.vscode-server/extensions/ms-toolsai.jupyter-2021.9.1101343141/out/client/extension.js:52:310490)"
     ]
    }
   ],
   "source": [
    "from scipy import integrate\n",
    "integrate_mse_con   =   np.zeros((con_t.T.data.shape[0],con_t.T.data.shape[2],con_t.T.data.shape[3]))\n",
    "integrate_mse_id    =   np.zeros((con_t.T.data.shape[0],con_t.T.data.shape[2],con_t.T.data.shape[3]))\n",
    "for dd in range(0,con_t.T.data.shape[0]):\n",
    "    for lat in range(0,con_t.T.data.shape[2]):\n",
    "        for lon in range(0,con_t.T.data.shape[3]):\n",
    "            integrate_mse_con[dd,lat,lon]  =  -1*integrate.trapz(con_mse[dd,:,lat,lon],con_t.lev.data)/9.8\n",
    "            integrate_mse_id[dd,lat,lon]   =  -1*integrate.trapz(id_mse[dd,:,lat,lon],con_t.lev.data)/9.8"
   ]
  },
  {
   "cell_type": "code",
   "execution_count": null,
   "metadata": {},
   "outputs": [],
   "source": []
  }
 ],
 "metadata": {
  "interpreter": {
   "hash": "bb21428767cca081fb002d22b2cfda1777e23fe90b248b4e838ba62636f1db4b"
  },
  "kernelspec": {
   "display_name": "Python 3.9.6 64-bit ('swh': conda)",
   "name": "python3"
  },
  "language_info": {
   "codemirror_mode": {
    "name": "ipython",
    "version": 3
   },
   "file_extension": ".py",
   "mimetype": "text/x-python",
   "name": "python",
   "nbconvert_exporter": "python",
   "pygments_lexer": "ipython3",
   "version": "3.9.6"
  },
  "orig_nbformat": 4
 },
 "nbformat": 4,
 "nbformat_minor": 2
}
