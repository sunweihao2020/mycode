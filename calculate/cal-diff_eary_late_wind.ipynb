{
 "cells": [
  {
   "cell_type": "markdown",
   "id": "474598bc-59bd-42fc-9701-ba42a8ac5a1a",
   "metadata": {},
   "source": [
    "# 2021/8/20\n",
    "## 本代码计算早年和晚年合成的偏差风场"
   ]
  },
  {
   "cell_type": "code",
   "execution_count": null,
   "id": "12dafc5c-38de-45e8-991d-f1ec82d26781",
   "metadata": {},
   "outputs": [],
   "source": [
    "import os\n",
    "import numpy as np\n",
    "import numpy.ma as ma\n",
    "from netCDF4 import Dataset\n",
    "import json\n",
    "import sys\n",
    "import time\n",
    "import math\n",
    "import xarray as xr\n",
    "import copy\n",
    "import pandas as pd\n",
    "sys.path.append(\"/home/sun/mycode/module/\")\n",
    "from module_sun import *\n",
    "from module_writenc import *\n",
    "import metpy\n",
    "\n",
    "path = \"/home/sun/data1/beifen/data/burst_seris/\"\n",
    "with open(\"/home/sun/data1/beifen/data/early_date.json\", 'r') as load_f1:\n",
    "    a = json.load(load_f1)\n",
    "with open(\"/home/sun/data1/beifen/data/late_date.json\", 'r') as load_f2:\n",
    "    b = json.load(load_f2)\n",
    "\n",
    "years = np.array(list(a.keys()))\n",
    "days = np.array(list(a.values()))\n",
    "early_years = years.astype(np.int32)\n",
    "early_days = days.astype(np.int32)\n",
    "early_days -= 1\n",
    "\n",
    "years = np.array(list(b.keys()))\n",
    "days  = np.array(list(b.values()))\n",
    "late_years = years.astype(np.int32)\n",
    "late_days  = days.astype(np.int32)\n",
    "late_days -= 1\n",
    "\n",
    "early = xr.open_dataset(\"/home/sun/data1/beifen/data/early-year-composite.nc\")\n",
    "late  = xr.open_dataset(\"/home/sun/data1/beifen/data/late-year-composite.nc\")\n",
    "early_u  =  early[\"u\"].data\n",
    "late_u   =  late[\"u\"].data\n",
    "early_v  =  early[\"v\"].data\n",
    "late_v   =  late[\"v\"].data\n",
    "\n",
    "diff_u   =  late_u - early_u\n",
    "diff_v   =  late_v - early_v\n",
    "\n",
    "lon      =  early.lon.data\n",
    "lat      =  early.lat.data\n",
    "level    =  early.level.data\n",
    "\n",
    "ds = xr.Dataset(\n",
    "    {\"diff_u\": ([\"time\",\"level\", \"lat\", \"lon\"], diff_u),\n",
    "    \"diff_v\": ([\"time\", \"level\", \"lat\",\"lon\"], diff_v),\n",
    "     },\n",
    "     coords={\"lon\": ([\"lon\"],lon),\"lat\": ([\"lat\"], lat),\n",
    "             \"time\": pd.date_range(start='1/1/1980', periods=61),\n",
    "             \"level\":([\"level\"],level),\n",
    "             },\n",
    "     )\n",
    "\n",
    "\n",
    "\n",
    "ds.diff_u.attrs = early.u.attrs\n",
    "ds.diff_v.attrs = early.v.attrs\n",
    "\n",
    "ds.to_netcdf(\"/home/sun/data/diff_wind_early_late.nc\")"
   ]
  }
 ],
 "metadata": {
  "kernelspec": {
   "display_name": "Python 3",
   "language": "python",
   "name": "python3"
  },
  "language_info": {
   "codemirror_mode": {
    "name": "ipython",
    "version": 3
   },
   "file_extension": ".py",
   "mimetype": "text/x-python",
   "name": "python",
   "nbconvert_exporter": "python",
   "pygments_lexer": "ipython3",
   "version": "3.9.6"
  }
 },
 "nbformat": 4,
 "nbformat_minor": 5
}
