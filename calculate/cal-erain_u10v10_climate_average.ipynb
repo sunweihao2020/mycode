{
 "cells": [
  {
   "cell_type": "code",
   "execution_count": 1,
   "metadata": {},
   "outputs": [],
   "source": [
    "import os\n",
    "import xarray as xr\n",
    "import numpy as np"
   ]
  },
  {
   "cell_type": "code",
   "execution_count": 2,
   "metadata": {},
   "outputs": [],
   "source": [
    "f0  =  xr.open_dataset(\"/home/sun/mydown/erain/1979-2010_erain_u10v10.nc\")"
   ]
  },
  {
   "cell_type": "code",
   "execution_count": 6,
   "metadata": {},
   "outputs": [
    {
     "data": {
      "text/plain": [
       "array(['1979-01-01T00:00:00.000000000', '1979-01-01T06:00:00.000000000',\n",
       "       '1979-01-01T12:00:00.000000000', ...,\n",
       "       '1900-01-01T00:00:00.000000000', '1900-01-01T00:00:00.000000000',\n",
       "       '1900-01-01T00:00:00.000000000'], dtype='datetime64[ns]')"
      ]
     },
     "execution_count": 6,
     "metadata": {},
     "output_type": "execute_result"
    }
   ],
   "source": [
    "f0.time.data"
   ]
  },
  {
   "cell_type": "code",
   "execution_count": null,
   "metadata": {},
   "outputs": [],
   "source": []
  }
 ],
 "metadata": {
  "interpreter": {
   "hash": "bb21428767cca081fb002d22b2cfda1777e23fe90b248b4e838ba62636f1db4b"
  },
  "kernelspec": {
   "display_name": "Python 3.9.6 64-bit ('swh': conda)",
   "name": "python3"
  },
  "language_info": {
   "codemirror_mode": {
    "name": "ipython",
    "version": 3
   },
   "file_extension": ".py",
   "mimetype": "text/x-python",
   "name": "python",
   "nbconvert_exporter": "python",
   "pygments_lexer": "ipython3",
   "version": "3.9.6"
  },
  "orig_nbformat": 4
 },
 "nbformat": 4,
 "nbformat_minor": 2
}
