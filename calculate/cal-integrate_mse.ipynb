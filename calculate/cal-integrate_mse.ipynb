{
 "cells": [
  {
   "cell_type": "markdown",
   "metadata": {},
   "source": [
    "# 2021/11/1\n",
    "# 本代码计算整层积分MSE\n",
    "# 使用scipy，一来科研，也是学习"
   ]
  },
  {
   "cell_type": "code",
   "execution_count": 1,
   "metadata": {},
   "outputs": [],
   "source": [
    "from scipy import integrate\n",
    "import numpy as np\n",
    "import xarray as xr"
   ]
  },
  {
   "cell_type": "code",
   "execution_count": 2,
   "metadata": {},
   "outputs": [],
   "source": [
    "path  =  \"/home/sun/data/\"\n",
    "f     =  xr.open_dataset(path+\"merra2_climate_pentad_mse.nc\").sel(lev=slice(1000,100))\n",
    "lev   =  f.lev.data"
   ]
  },
  {
   "cell_type": "code",
   "execution_count": 4,
   "metadata": {},
   "outputs": [],
   "source": [
    "integrate_mse   =   np.zeros((f.mse.data.shape[0],f.mse.data.shape[2],f.mse.data.shape[3]))\n",
    "for pen in range(0,f.mse.data.shape[0]):\n",
    "    for lat in range(0,f.mse.data.shape[2]):\n",
    "        for lon in range(0,f.mse.data.shape[3]):\n",
    "            trans  =  np.nan_to_num(f.mse.data[pen,:,lat,lon],nan=0)\n",
    "            integrate_mse[pen,lat,lon]  =  -1*integrate.trapz(trans,lev)/9.8\n"
   ]
  },
  {
   "cell_type": "code",
   "execution_count": 5,
   "metadata": {},
   "outputs": [],
   "source": [
    "ncfile  =  xr.Dataset(\n",
    "    {\n",
    "        \"integrated_mse\": ([\"time\", \"lat\", \"lon\"], integrate_mse),\n",
    "    },\n",
    "    coords={\n",
    "        \"lon\": ([\"lon\"], f.lon.data),\n",
    "        \"lat\": ([\"lat\"], f.lat.data),\n",
    "        \"time\": ([\"time\"], np.linspace(1,73,73)),\n",
    "    },\n",
    ")\n",
    "ncfile[\"lat\"].attrs  =  f[\"lat\"].attrs\n",
    "ncfile[\"lon\"].attrs  =  f[\"lon\"].attrs\n",
    "ncfile[\"integrated_mse\"].attrs[\"units\"]  =  \"kj/kg\"\n",
    "\n",
    "ncfile.to_netcdf(\"/home/sun/data/merra2_integrated_mse.nc\")"
   ]
  },
  {
   "cell_type": "code",
   "execution_count": null,
   "metadata": {},
   "outputs": [],
   "source": []
  }
 ],
 "metadata": {
  "interpreter": {
   "hash": "bb21428767cca081fb002d22b2cfda1777e23fe90b248b4e838ba62636f1db4b"
  },
  "kernelspec": {
   "display_name": "Python 3 (ipykernel)",
   "language": "python",
   "name": "python3"
  },
  "language_info": {
   "codemirror_mode": {
    "name": "ipython",
    "version": 3
   },
   "file_extension": ".py",
   "mimetype": "text/x-python",
   "name": "python",
   "nbconvert_exporter": "python",
   "pygments_lexer": "ipython3",
   "version": "3.9.6"
  }
 },
 "nbformat": 4,
 "nbformat_minor": 4
}
