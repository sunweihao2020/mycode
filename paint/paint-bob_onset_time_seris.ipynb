{
 "cells": [
  {
   "cell_type": "markdown",
   "id": "7b95b54e-e2f8-4d16-a78d-33a4270f08fb",
   "metadata": {},
   "source": [
    "# 2021/11/13\n",
    "# 本代码绘制BOB的时间序列"
   ]
  },
  {
   "cell_type": "code",
   "execution_count": 1,
   "id": "d8f4fcc0-864a-449c-817a-f35337be9224",
   "metadata": {},
   "outputs": [],
   "source": [
    "import cartopy.crs as ccrs\n",
    "import cartopy.feature as cfeature\n",
    "import matplotlib.gridspec as gridspec\n",
    "import matplotlib.pyplot as plt\n",
    "import metpy.calc as mpcalc\n",
    "import numpy as np\n",
    "import xarray as xr\n",
    "import sys\n",
    "from matplotlib.ticker import MultipleLocator, FormatStrFormatter\n",
    "\n",
    "sys.path.append(\"/home/sun/mycode/module/\")\n",
    "from module_sun import *"
   ]
  },
  {
   "cell_type": "code",
   "execution_count": 2,
   "id": "bbb9049c-a091-4092-a4e0-034dbb9a1a3b",
   "metadata": {},
   "outputs": [],
   "source": [
    "with open(\"/home/sun/data/onsetdate.json\",'r') as load_f:\n",
    "    a = json.load(load_f)\n",
    "\n",
    "year = np.array(list(a.keys()))    ;  year  =  year.astype(int)\n",
    "day  = np.array(list(a.values()))  ;  day   =  day.astype(int)"
   ]
  },
  {
   "cell_type": "code",
   "execution_count": 3,
   "id": "a5f20c89-b3de-4c31-ad04-d408d436801b",
   "metadata": {},
   "outputs": [
    {
     "data": {
      "text/plain": [
       "'0502'"
      ]
     },
     "execution_count": 3,
     "metadata": {},
     "output_type": "execute_result"
    }
   ],
   "source": [
    "out_date(1981,122)"
   ]
  },
  {
   "cell_type": "code",
   "execution_count": 17,
   "id": "e484e606-06dd-4bd0-8b63-b4a7f7aa2203",
   "metadata": {},
   "outputs": [],
   "source": [
    "# 筛选 晚年用红色，早年用蓝色\n",
    "a  =  np.zeros(40,dtype=int).astype(dtype=str) ; a[:]  =  'grey'\n",
    "color_list  =  a.tolist()#  ;  color_list[:]  =  'grey'\n",
    "\n",
    "for i in range(0,40):\n",
    "    if day[i] < np.mean(day) - np.std(day):\n",
    "        color_list[i]  =  'blue'\n",
    "    if day[i] > np.mean(day) + np.std(day)-1:\n",
    "        color_list[i]  =  'red'\n",
    "        \n"
   ]
  },
  {
   "cell_type": "code",
   "execution_count": 19,
   "id": "932c1736-b0db-490d-8616-21e02521d64e",
   "metadata": {},
   "outputs": [
    {
     "data": {
      "image/png": "[encoded data removed]",
      "text/plain": [
       "<Figure size 432x288 with 1 Axes>"
      ]
     },
     "metadata": {
      "needs_background": "light"
     },
     "output_type": "display_data"
    }
   ],
   "source": [
    "from matplotlib.ticker import (MultipleLocator, FormatStrFormatter,\n",
    "                               AutoMinorLocator)\n",
    "\n",
    "# 设置y轴\n",
    "y_label  =  ['10Apr','15Apr','20Apr','25Apr','1May','5May','10May','15May','20May']\n",
    "\n",
    "fig,axs  =  plt.subplots(tight_layout=True)\n",
    "\n",
    "# axs.set_yticks(np.arange(90, 160,10))\n",
    "\n",
    "axs.bar(year,day-120,width=1,color=color_list,edgecolor='black')\n",
    "# 刻度设置\n",
    "axs.set_xlim(1979,2020)\n",
    "axs.xaxis.set_major_locator(MultipleLocator(5))\n",
    "axs.xaxis.set_minor_locator(MultipleLocator(1))\n",
    "\n",
    "axs.set_yticks(np.arange(-20,25,5))\n",
    "axs.set_yticklabels(y_label)\n",
    "\n",
    "axs.plot([1979,2020],[0,0],color='black')\n",
    "axs.plot([1979,2020],[np.ceil(np.mean(day)-np.std(day))-120-1,np.ceil(np.mean(day)-np.std(day))-120-1],color='k',linestyle='dashed')\n",
    "axs.plot([1979,2020],[np.floor(np.mean(day)+np.std(day))-120-1,np.floor(np.mean(day)+np.std(day))-120-1],color='k',linestyle='dashed')\n",
    "\n",
    "axs.set_aspect(0.5)\n",
    "\n",
    "plt.savefig('/home/sun/paint/lunwen/version2.0/fig1_v2.0_bob_time_seris_220411.pdf',dpi=2000)\n",
    "\n",
    "plt.show()\n",
    "\n"
   ]
  },
  {
   "cell_type": "code",
   "execution_count": 6,
   "id": "83b86914-8a67-4758-beb0-f664ac2b8f9c",
   "metadata": {},
   "outputs": [
    {
     "data": {
      "text/plain": [
       "10.887033572098508"
      ]
     },
     "execution_count": 6,
     "metadata": {},
     "output_type": "execute_result"
    }
   ],
   "source": [
    "np.std(day)"
   ]
  },
  {
   "cell_type": "code",
   "execution_count": 7,
   "id": "7ff77479-5541-4dff-a157-976a6b6eb519",
   "metadata": {},
   "outputs": [
    {
     "data": {
      "text/plain": [
       "122.35"
      ]
     },
     "execution_count": 7,
     "metadata": {},
     "output_type": "execute_result"
    }
   ],
   "source": [
    "np.mean(day)"
   ]
  },
  {
   "cell_type": "code",
   "execution_count": 11,
   "id": "072fd893-0685-4be8-89ad-750d0cde8ca5",
   "metadata": {},
   "outputs": [
    {
     "data": {
      "text/plain": [
       "111.0"
      ]
     },
     "execution_count": 11,
     "metadata": {},
     "output_type": "execute_result"
    }
   ],
   "source": [
    "np.ceil(np.mean(day)-np.std(day))-1"
   ]
  },
  {
   "cell_type": "code",
   "execution_count": 13,
   "id": "9d8ed8eb-1322-4d77-9352-9ebc391935b0",
   "metadata": {},
   "outputs": [
    {
     "data": {
      "text/plain": [
       "'0421'"
      ]
     },
     "execution_count": 13,
     "metadata": {},
     "output_type": "execute_result"
    }
   ],
   "source": [
    "out_date(1981,111)"
   ]
  },
  {
   "cell_type": "code",
   "execution_count": 15,
   "id": "08388203-0e27-4d43-9caa-eed3a795736b",
   "metadata": {},
   "outputs": [
    {
     "data": {
      "text/plain": [
       "133.0"
      ]
     },
     "execution_count": 15,
     "metadata": {},
     "output_type": "execute_result"
    }
   ],
   "source": [
    "np.floor(np.mean(day)+np.std(day))"
   ]
  },
  {
   "cell_type": "code",
   "execution_count": null,
   "id": "b0167297-25f2-40ef-b09d-426a082137a7",
   "metadata": {},
   "outputs": [],
   "source": []
  }
 ],
 "metadata": {
  "kernelspec": {
   "display_name": "Python 3 (ipykernel)",
   "language": "python",
   "name": "python3"
  },
  "language_info": {
   "codemirror_mode": {
    "name": "ipython",
    "version": 3
   },
   "file_extension": ".py",
   "mimetype": "text/x-python",
   "name": "python",
   "nbconvert_exporter": "python",
   "pygments_lexer": "ipython3",
   "version": "3.9.12"
  }
 },
 "nbformat": 4,
 "nbformat_minor": 5
}
