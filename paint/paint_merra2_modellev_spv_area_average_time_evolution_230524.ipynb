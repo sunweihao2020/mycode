{
 "cells": [
  {
   "attachments": {},
   "cell_type": "markdown",
   "metadata": {},
   "source": [
    "# 230524\n",
    "# This script plot the time evolution of the area-averaged spv over Indian continent"
   ]
  },
  {
   "attachments": {},
   "cell_type": "markdown",
   "metadata": {},
   "source": [
    "from matplotlib import projections\n",
    "import xarray as xr\n",
    "import numpy as np\n",
    "import cartopy.crs as ccrs\n",
    "import matplotlib.pyplot as plt\n",
    "import sys\n",
    "\n",
    "sys.path.append(\"/home/sun/mycode/module/\")\n",
    "from module_sun import *\n",
    "\n",
    "sys.path.append(\"/home/sun/mycode/paint/\")\n",
    "from paint_lunwen_version3_0_fig2b_2m_tem_wind_20220426 import set_cartopy_tick,save_fig\n",
    "from paint_lunwen_version3_0_fig2a_tem_gradient_20220426 import add_text\n",
    "\n",
    "f0 = xr.open_dataset('/home/sun/wd_disk/merra2_modellev/spv/cdo/spv_monthly_1980_2019_multi_year_monthly.nc').sel(lev=72)"
   ]
  }
 ],
 "metadata": {
  "language_info": {
   "name": "python"
  },
  "orig_nbformat": 4
 },
 "nbformat": 4,
 "nbformat_minor": 2
}
