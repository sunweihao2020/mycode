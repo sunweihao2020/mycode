{
 "cells": [
  {
   "cell_type": "markdown",
   "id": "18c7e2e4-353a-42ed-b1dc-2ab4c23e9cbe",
   "metadata": {},
   "source": [
    "# 2021/12/29\n",
    "# 本代码绘制论文version1.2中的fig2d\n",
    "# 内容为10m地面风叠加散度"
   ]
  },
  {
   "cell_type": "code",
   "execution_count": 1,
   "id": "a2645113-2b78-4e32-9c0d-e2a3bec61399",
   "metadata": {},
   "outputs": [],
   "source": [
    "import os\n",
    "import sys\n",
    "import xarray as xr\n",
    "import numpy as np\n",
    "module_path = [\"/home/sun/mycode/module/\",\"/data5/2019swh/mycode/module/\"]\n",
    "sys.path.append(module_path[0])\n",
    "from module_sun import *\n",
    "import cartopy.crs as ccrs\n",
    "import cartopy.feature as cfeature\n",
    "import matplotlib.pyplot as plt\n",
    "from metpy.units import units\n",
    "from matplotlib.path import Path\n",
    "import matplotlib.patches as patches\n",
    "import matplotlib as mpl"
   ]
  },
  {
   "cell_type": "code",
   "execution_count": 7,
   "id": "93f83f6b-f66d-41a0-bf13-e2ea2458d12b",
   "metadata": {},
   "outputs": [],
   "source": [
    "path  =  \"/home/sun/qomo-data/\"\n",
    "\n",
    "\n",
    "f1  =  xr.open_dataset(path+\"composite_u10v10.nc\")\n",
    "\n",
    "avg_u  =  np.average(f1.u10m.data[0:30,:],axis=0)\n",
    "avg_v  =  np.average(f1.v10m.data[0:30,:],axis=0)\n",
    "\n",
    "disy,disx,location = cal_xydistance(f1.lat,f1.lon)\n",
    "vy =  np.gradient(avg_v,location,axis=0)\n",
    "ux = copy.deepcopy(vy)\n",
    "for i in range(181):\n",
    "    ux[i,:] = np.gradient(avg_u[i,:],disx[i],axis=0)\n",
    "    \n",
    "div  =  (vy+ux)*1E6 #注意这里放缩了"
   ]
  },
  {
   "cell_type": "code",
   "execution_count": 9,
   "id": "3cc56a18-c6ea-4fad-90dd-719b07f5f61f",
   "metadata": {},
   "outputs": [
    {
     "data": {
      "text/plain": [
       "(181, 360)"
      ]
     },
     "execution_count": 9,
     "metadata": {},
     "output_type": "execute_result"
    }
   ],
   "source": [
    "div.shape"
   ]
  },
  {
   "cell_type": "code",
   "execution_count": 8,
   "id": "38ae5334-9532-4804-8eff-5deed04d18aa",
   "metadata": {},
   "outputs": [
    {
     "data": {
      "text/plain": [
       "array([[        nan,         nan,         nan, ...,         nan,\n",
       "                nan,         nan],\n",
       "       [21.38762991, 21.20683119, 21.01138815, ..., 13.23820329,\n",
       "        12.82288963, 12.36794503],\n",
       "       [19.57183205, 19.71711541, 19.88824503, ..., 15.83247774,\n",
       "        16.0675612 , 16.26641663],\n",
       "       ...,\n",
       "       [-4.22887859, -4.83045374, -5.56960542, ..., -5.81462152,\n",
       "        -5.68942882, -5.5609691 ],\n",
       "       [ 2.30175015,  2.26556646,  2.2180818 , ...,  0.45327754,\n",
       "         0.41891515,  0.39061618],\n",
       "       [        nan,         nan,         nan, ...,         nan,\n",
       "                nan,         nan]])"
      ]
     },
     "execution_count": 8,
     "metadata": {},
     "output_type": "execute_result"
    }
   ],
   "source": [
    "lonmin,lonmax,latmin,latmax  =  45,115,-10,30\n",
    "extent     =  [lonmin,lonmax,latmin,latmax]\n",
    "\n",
    "from matplotlib import cm\n",
    "from matplotlib.colors import ListedColormap, LinearSegmentedColormap\n",
    "\n",
    "props = dict(boxstyle='square', edgecolor='white', facecolor='white', alpha=1)\n",
    "\n",
    "proj    =  ccrs.PlateCarree()\n",
    "fig1    =  plt.figure()\n",
    "\n",
    "j = 0\n",
    "    \n",
    "\n",
    "            ax = fig1.add_subplot(spec1[row,col],projection=proj)\n",
    "            ax.coastlines(resolution='110m',lw=1)\n",
    "            # 设置经纬度刻度.\n",
    "            set_map_ticks(ax, dx=10, dy=10, nx=1, ny=1, labelsize='small')\n",
    "            ax.set_extent(extent, crs=proj)\n",
    "            \n",
    "            ax.plot([40,120],[0,0],'k--')\n",
    "            im  =  ax.contourf(f2.lon,f2.lat,f2.precipitation[date[j],:],levels=np.linspace(4,20,9),cmap='seismic',alpha=1,extend='both')\n",
    "            q  =  ax.quiver(f.lon, f.lat, f.uwind.data[date[j],:], f.vwind.data[date[j],:], \n",
    "                            regrid_shape=15, angles='uv',   # regrid_shape这个参数越小，是两门就越稀疏\n",
    "                            scale_units='xy', scale=1,        # scale是参考矢量，所以取得越大画出来的箭头就越短\n",
    "                            units='xy', width=0.25,\n",
    "                            transform=proj,\n",
    "                            color='k',linewidth=1.2,headlength = 5, headaxislength = 4, headwidth = 5)\n",
    "            if dates[j]<0:\n",
    "                ax.text(0.85,0.825,\"D\"+str(dates[j]),transform=ax.transAxes,bbox=props,fontsize=15)\n",
    "            elif dates[j]>0:\n",
    "                 ax.text(0.85,0.825,\"D+\"+str(dates[j]),transform=ax.transAxes,bbox=props,fontsize=15)\n",
    "            else:\n",
    "                 ax.text(0.85,0.825,\"D\"+str(dates[j]),transform=ax.transAxes,bbox=props,fontsize=15)\n",
    "            ax.text(0.05,0.825,\"(\"+number[j]+\")\",transform=ax.transAxes,bbox=props,fontsize=15)\n",
    "            \n",
    "            rect = mpl.patches.Rectangle((0.825, 0), 0.175, 0.2, transform=ax.transAxes,    # 这个能辟出来一块区域，第一个参数是最左下角点的坐标，后面是矩形的长和宽\n",
    "                                        fc='white', ec='k', lw=0.5, zorder=1.1\n",
    "                                        )\n",
    "            ax.add_patch(rect)\n",
    "            \n",
    "            qk = ax.quiverkey(q, X=0.915, Y=0.125, U=5,\n",
    "                                label=f'{5} m/s', labelpos='S', labelsep=0.08,)\n",
    "        \n",
    "            j += 1\n",
    "\n",
    "\n",
    "fig1.subplots_adjust(top=0.8) \n",
    "cbar_ax = fig1.add_axes([0.2, 0.05, 0.6, 0.03]) \n",
    "fig1.colorbar(im, cax=cbar_ax, shrink=0.1, pad=0.01, orientation='horizontal',label='mm/day')\n",
    "\n",
    "\n",
    "plt.savefig(\"/home/sun/paint/lunwen/version1.1/fig3_v1.1_925_vector_prect.pdf\", bbox_inches='tight', dpi=1200)\n",
    "plt.show()"
   ]
  },
  {
   "cell_type": "code",
   "execution_count": null,
   "id": "b2e82e53-0129-4be2-95f5-a3ec139ed0f6",
   "metadata": {},
   "outputs": [],
   "source": []
  }
 ],
 "metadata": {
  "kernelspec": {
   "display_name": "Python 3 (ipykernel)",
   "language": "python",
   "name": "python3"
  },
  "language_info": {
   "codemirror_mode": {
    "name": "ipython",
    "version": 3
   },
   "file_extension": ".py",
   "mimetype": "text/x-python",
   "name": "python",
   "nbconvert_exporter": "python",
   "pygments_lexer": "ipython3",
   "version": "3.9.6"
  }
 },
 "nbformat": 4,
 "nbformat_minor": 5
}
