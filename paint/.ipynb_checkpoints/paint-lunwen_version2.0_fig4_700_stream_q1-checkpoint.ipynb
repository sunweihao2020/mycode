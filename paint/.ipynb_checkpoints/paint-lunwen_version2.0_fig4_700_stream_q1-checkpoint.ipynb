{
 "cells": [
  {
   "cell_type": "markdown",
   "id": "53b02ab1-150d-43a8-b946-ce0a6ebba03b",
   "metadata": {},
   "source": [
    "# 2021/12/28\n",
    "# 本代码绘制论文version1.1中的图5\n",
    "# 700hpa环流及Q1"
   ]
  },
  {
   "cell_type": "code",
   "execution_count": null,
   "id": "baede7c1-17ed-4555-b098-6529b0093d75",
   "metadata": {
    "tags": []
   },
   "outputs": [],
   "source": [
    "import os\n",
    "import sys\n",
    "import xarray as xr\n",
    "import numpy as np\n",
    "module_path = [\"/home/sun/mycode/module/\",\"/data5/2019swh/mycode/module/\"]\n",
    "sys.path.append(module_path[0])\n",
    "from module_sun import *\n",
    "import cartopy.crs as ccrs\n",
    "import cartopy.feature as cfeature\n",
    "import matplotlib.pyplot as plt\n",
    "from metpy.units import units\n",
    "from matplotlib.path import Path\n",
    "import matplotlib.patches as patches\n",
    "import matplotlib as mpl\n",
    "\n",
    "path  =  \"/home/sun/qomo-data/\"\n",
    "level =  700\n",
    "lon_slice  =  slice(40,120)\n",
    "lat_slice  =  slice(-15,40)\n",
    "\n",
    "lonmin,lonmax,latmin,latmax  =  50,115,-10,30\n",
    "extent     =  [lonmin,lonmax,latmin,latmax]\n",
    "\n",
    "f1  =  xr.open_dataset(path+\"composite3.nc\").sel(level=level,lon=lon_slice,lat=lat_slice)   \n",
    "f2  =  xr.open_dataset(path+\"composite-Q1-merra2.nc\").sel(level=slice(850,500),lon=lon_slice,lat=lat_slice)  \n",
    "\n",
    "q1_average  =  np.average(f2.Q1,axis=1)\n",
    "\n",
    "from matplotlib import cm\n",
    "from matplotlib.colors import ListedColormap, LinearSegmentedColormap\n",
    "\n",
    "viridis = cm.get_cmap('Reds', 16)\n",
    "newcolors = viridis(np.linspace(0, 1, 16))\n",
    "#pink = np.array([1, 1, 1, 1])\n",
    "#newcolors[0, :] =  pink\n",
    "newcmp = ListedColormap(newcolors)\n",
    "newcmp.set_under('white')\n",
    "newcmp.set_over('brown')\n",
    "\n",
    "dates  =  [-6,-4,-2,0] #总共8张图\n",
    "date   =  [24,26,28,30]\n",
    "number =  [\"a\",\"b\",\"c\",\"d\",\"e\",\"f\",\"g\",\"h\",\"i\"]\n",
    "props = dict(boxstyle='square', edgecolor='white', facecolor='white', alpha=1)\n",
    "\n",
    "proj    =  ccrs.PlateCarree()\n",
    "fig1    =  plt.figure(figsize=(19,14))\n",
    "spec1   =  fig1.add_gridspec(nrows=2,ncols=2)\n",
    "\n",
    "j = 0\n",
    "    \n",
    "for col in range(3):\n",
    "    for row in range(3):\n",
    "            ax = fig1.add_subplot(spec1[row,col],projection=proj)\n",
    "            ax.coastlines(resolution='110m',lw=1)\n",
    "            # 设置经纬度刻度.\n",
    "            set_map_ticks(ax, dx=10, dy=10, nx=1, ny=1, labelsize='small')\n",
    "            ax.set_extent(extent, crs=proj)\n",
    "            \n",
    "            ax.plot([40,120],[0,0],'k--')\n",
    "            im  =  ax.contourf(f2.lon,f2.lat,q1_average[date[j]],np.linspace(0,6,7),cmap=newcmp,alpha=1,extend='both')\n",
    "            ax.streamplot(f1.lon.data, f1.lat.data, f1.uwind.data[date[j],:], f1.vwind.data[date[j],:], color='k',linewidth=1.2,density=1)\n",
    "            ax.text(0.85,0.825,\"D\"+str(dates[j]),transform=ax.transAxes,bbox=props,fontsize=15)\n",
    "            ax.text(0.05,0.825,\"(\"+number[j]+\")\",transform=ax.transAxes,bbox=props,fontsize=15)\n",
    "        \n",
    "            j += 1\n",
    "\n",
    "    \n",
    "fig1.subplots_adjust(top=0.8) \n",
    "cbar_ax = fig1.add_axes([0.2, 0.05, 0.6, 0.03]) \n",
    "fig1.colorbar(im, cax=cbar_ax, shrink=0.1, pad=0.01, orientation='horizontal',label='K/day')\n",
    "\n",
    "plt.savefig(\"/home/sun/paint/lunwen/version2.0/fig4_version2.0_700_stream_q1_1.pdf\",dpi=300)"
   ]
  },
  {
   "cell_type": "code",
   "execution_count": null,
   "id": "ca18b96a-2511-4880-8807-f3c722d6393e",
   "metadata": {},
   "outputs": [],
   "source": []
  }
 ],
 "metadata": {
  "kernelspec": {
   "display_name": "Python 3 (ipykernel)",
   "language": "python",
   "name": "python3"
  },
  "language_info": {
   "codemirror_mode": {
    "name": "ipython",
    "version": 3
   },
   "file_extension": ".py",
   "mimetype": "text/x-python",
   "name": "python",
   "nbconvert_exporter": "python",
   "pygments_lexer": "ipython3",
   "version": "3.9.7"
  }
 },
 "nbformat": 4,
 "nbformat_minor": 5
}
