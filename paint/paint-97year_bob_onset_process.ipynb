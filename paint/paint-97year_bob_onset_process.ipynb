{
 "cells": [
  {
   "cell_type": "markdown",
   "id": "df379fed-1661-4dd7-8c63-91cba2a49c31",
   "metadata": {
    "pycharm": {
     "name": "#%% md\n"
    }
   },
   "source": [
    "# 2022/4/23\n",
    "# 本代码绘制97年的BOB季风爆发过程\n",
    "# 这里是想看一看，因为这一年季风爆发的时间比较晚，然后越赤道气流也远远大于2m/s因此看看原因\n",
    "[![bobcef_onsetday.th.png](https://z4a.net/images/2022/04/23/bobcef_onsetday.th.png)](https://z4a.net/image/2QcAAj)\n"
   ]
  },
  {
   "cell_type": "code",
   "execution_count": null,
   "id": "b7cadd88-cb90-4e25-940f-c6d0bcf687b1",
   "metadata": {
    "pycharm": {
     "name": "#%%\n"
    }
   },
   "outputs": [],
   "source": [
    "import os\n",
    "import sys\n",
    "import xarray as xr\n",
    "import numpy as np\n",
    "module_path = [\"/home/sun/mycode/module/\",\"/data5/2019swh/mycode/module/\"]\n",
    "sys.path.append(module_path[0])\n",
    "from module_sun import *  "
   ]
  }
 ],
 "metadata": {
  "kernelspec": {
   "display_name": "Python 3 (ipykernel)",
   "language": "python",
   "name": "python3"
  },
  "language_info": {
   "codemirror_mode": {
    "name": "ipython",
    "version": 3
   },
   "file_extension": ".py",
   "mimetype": "text/x-python",
   "name": "python",
   "nbconvert_exporter": "python",
   "pygments_lexer": "ipython3",
   "version": "3.9.12"
  }
 },
 "nbformat": 4,
 "nbformat_minor": 5
}