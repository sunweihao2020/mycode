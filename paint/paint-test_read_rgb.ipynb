{
 "cells": [
  {
   "cell_type": "code",
   "execution_count": 55,
   "id": "218a7cc2-4e6e-44f8-92e0-792ff2da92f9",
   "metadata": {},
   "outputs": [],
   "source": [
    "import cv2 as cv\n",
    "import numpy as np\n",
    "\n",
    "rgb  =  []\n",
    "with open(\"/home/sun/data/color_rgb/GMT_polar.txt\",\"r\") as f:\n",
    "    for line in f.readlines():\n",
    "        line = line.strip('\\n')\n",
    "        line1  =  line.split()\n",
    "        rgb.append(tuple(np.array(line.split()).astype(float)))\n",
    "\n"
   ]
  },
  {
   "cell_type": "code",
   "execution_count": 56,
   "id": "1254052c-349a-4863-9e35-3b325530b131",
   "metadata": {},
   "outputs": [
    {
     "data": {
      "text/plain": [
       "[(0.05, 0.05, 1.0),\n",
       " (0.15, 0.15, 1.0),\n",
       " (0.25, 0.25, 1.0),\n",
       " (0.35, 0.35, 1.0),\n",
       " (0.45, 0.45, 1.0),\n",
       " (0.55, 0.55, 1.0),\n",
       " (0.65, 0.65, 1.0),\n",
       " (0.75, 0.75, 1.0),\n",
       " (0.85, 0.85, 1.0),\n",
       " (0.95, 0.95, 1.0),\n",
       " (1.0, 0.95, 0.95),\n",
       " (1.0, 0.85, 0.85),\n",
       " (1.0, 0.75, 0.75),\n",
       " (1.0, 0.65, 0.65),\n",
       " (1.0, 0.55, 0.55),\n",
       " (1.0, 0.45, 0.45),\n",
       " (1.0, 0.35, 0.35),\n",
       " (1.0, 0.25, 0.25),\n",
       " (1.0, 0.15, 0.15),\n",
       " (1.0, 0.05, 0.05)]"
      ]
     },
     "execution_count": 56,
     "metadata": {},
     "output_type": "execute_result"
    }
   ],
   "source": [
    "rgb"
   ]
  },
  {
   "cell_type": "code",
   "execution_count": 39,
   "id": "e4b67543-3504-4e61-803c-e2a1d82ce788",
   "metadata": {},
   "outputs": [
    {
     "data": {
      "text/plain": [
       "array([1.  , 0.05, 0.05])"
      ]
     },
     "execution_count": 39,
     "metadata": {},
     "output_type": "execute_result"
    }
   ],
   "source": [
    "np.array(line.split()).astype(float)"
   ]
  },
  {
   "cell_type": "code",
   "execution_count": 57,
   "id": "b6edae53-022c-4281-bf09-f6c179dcf23b",
   "metadata": {},
   "outputs": [],
   "source": [
    "import numpy as np\n",
    "import matplotlib as mpl\n",
    "import matplotlib.pyplot as plt\n",
    "from matplotlib.colors import LinearSegmentedColormap\n",
    "\n",
    "# Make some illustrative fake data:\n",
    "\n",
    "x = np.arange(0, np.pi, 0.1)\n",
    "y = np.arange(0, 2 * np.pi, 0.1)\n",
    "X, Y = np.meshgrid(x, y)\n",
    "Z = np.cos(X) * np.sin(Y) * 10"
   ]
  },
  {
   "cell_type": "code",
   "execution_count": 58,
   "id": "95bfd278-67fc-4265-bd5f-2c7ff12372da",
   "metadata": {},
   "outputs": [
    {
     "data": {
      "image/png": "[encoded data removed]",
      "text/plain": [
       "<Figure size 432x648 with 8 Axes>"
      ]
     },
     "metadata": {
      "needs_background": "light"
     },
     "output_type": "display_data"
    }
   ],
   "source": [
    "colors = rgb  # R -> G -> B\n",
    "n_bins = [3, 6, 10, 100]  # Discretizes the interpolation into bins\n",
    "cmap_name = 'my_list'\n",
    "fig, axs = plt.subplots(2, 2, figsize=(6, 9))\n",
    "fig.subplots_adjust(left=0.02, bottom=0.06, right=0.95, top=0.94, wspace=0.05)\n",
    "for n_bin, ax in zip(n_bins, axs.flat):\n",
    "    # Create the colormap\n",
    "    cmap = LinearSegmentedColormap.from_list(cmap_name, colors, N=n_bin)\n",
    "    # Fewer bins will result in \"coarser\" colomap interpolation\n",
    "    im = ax.imshow(Z, origin='lower', cmap=cmap)\n",
    "    ax.set_title(\"N bins: %s\" % n_bin)\n",
    "    fig.colorbar(im, ax=ax)"
   ]
  },
  {
   "cell_type": "code",
   "execution_count": null,
   "id": "593e61cf-b66c-465b-adbd-322064812215",
   "metadata": {},
   "outputs": [],
   "source": []
  }
 ],
 "metadata": {
  "kernelspec": {
   "display_name": "Python 3 (ipykernel)",
   "language": "python",
   "name": "python3"
  },
  "language_info": {
   "codemirror_mode": {
    "name": "ipython",
    "version": 3
   },
   "file_extension": ".py",
   "mimetype": "text/x-python",
   "name": "python",
   "nbconvert_exporter": "python",
   "pygments_lexer": "ipython3",
   "version": "3.9.7"
  }
 },
 "nbformat": 4,
 "nbformat_minor": 5
}
