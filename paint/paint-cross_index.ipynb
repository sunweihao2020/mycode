{
 "cells": [
  {
   "cell_type": "markdown",
   "id": "eb0dcf99-b178-4f9e-b1ac-557992ef30e3",
   "metadata": {},
   "source": [
    "# 2021/12/13\n",
    "# 本代码干这几件事：计算孙伟皓定义的越赤道气流指数\n",
    "# 计算相关性 计算4月的"
   ]
  },
  {
   "cell_type": "code",
   "execution_count": 1,
   "id": "558bf135-e343-4834-a542-dd2852e1bcf1",
   "metadata": {},
   "outputs": [],
   "source": [
    "import cartopy.crs as ccrs\n",
    "import cartopy.feature as cfeature\n",
    "import matplotlib.gridspec as gridspec\n",
    "import matplotlib.pyplot as plt\n",
    "import metpy.calc as mpcalc\n",
    "import numpy as np\n",
    "import xarray as xr\n",
    "import sys\n",
    "from matplotlib.ticker import MultipleLocator, FormatStrFormatter\n",
    "\n",
    "sys.path.append(\"/home/sun/mycode/module/\")\n",
    "from module_sun import *"
   ]
  },
  {
   "cell_type": "code",
   "execution_count": 10,
   "id": "0accb21b-706e-4a07-835d-3fd27e868c9a",
   "metadata": {},
   "outputs": [
    {
     "name": "stdout",
     "output_type": "stream",
     "text": [
      "                  BOBSM onset date  index_56_march  index_89_march\n",
      "BOBSM onset date          1.000000       -0.031900       -0.325733\n",
      "index_56_march           -0.031900        1.000000        0.359208\n",
      "index_89_march           -0.325733        0.359208        1.000000\n",
      "(-0.031900324773689245, 0.8450740922853112)\n",
      "(-0.3257329989837272, 0.040256710801316785)\n"
     ]
    }
   ],
   "source": [
    "path  =  \"/home/sun/qomo-data/\"\n",
    "lonslice1  =  slice(80,90)\n",
    "lonslice2  =  slice(50,60)\n",
    "\n",
    "f1  =  xr.open_dataset(path+\"march_wind_early-late-climate_year.nc\").sel(lon=lonslice1,lat=slice(-5,5),lev=925)\n",
    "f2  =  xr.open_dataset(path+\"march_wind_early-late-climate_year.nc\").sel(lon=lonslice2,lat=slice(-5,5),lev=925)\n",
    "\n",
    "index_89  =  np.average(np.average(f1.climate_v,axis=1),axis=1)\n",
    "index_56  =  np.average(np.average(f2.climate_v,axis=1),axis=1)\n",
    "\n",
    "with open(\"/home/sun/data/onsetdate.json\",'r') as load_f:\n",
    "    a = json.load(load_f)\n",
    "\n",
    "year = np.array(list(a.keys()))    ;  year  =  year.astype(int)\n",
    "day  = np.array(list(a.values()))  ;  day   =  day.astype(int)\n",
    "\n",
    "import pandas as pd\n",
    "\n",
    "data = pd.DataFrame({'BOBSM onset date':day,'index_56_march':index_56,'index_89_march':index_89})\n",
    "\n",
    "print(data.corr())\n",
    "\n",
    "import scipy.stats as stats\n",
    "print(stats.pearsonr(data['BOBSM onset date'],data['index_56_march']))\n",
    "print(stats.pearsonr(data['BOBSM onset date'],data['index_89_march']))"
   ]
  },
  {
   "cell_type": "code",
   "execution_count": 12,
   "id": "2ec9aaf9-469b-447b-9d6a-cdd1d050bc01",
   "metadata": {},
   "outputs": [
    {
     "name": "stdout",
     "output_type": "stream",
     "text": [
      "                  BOBSM onset date  index_56_march  index_89_march\n",
      "BOBSM onset date          1.000000       -0.518391       -0.625153\n",
      "index_56_march           -0.518391        1.000000        0.454076\n",
      "index_89_march           -0.625153        0.454076        1.000000\n",
      "(-0.5183910432676961, 0.0006112009378898282)\n",
      "(-0.6251533337899129, 1.61372225364207e-05)\n",
      "(0.4540762641752269, 0.003249266006612787)\n"
     ]
    }
   ],
   "source": [
    "path  =  \"/home/sun/qomo-data/\"\n",
    "lonslice1  =  slice(80,90)\n",
    "lonslice2  =  slice(50,60)\n",
    "\n",
    "f1  =  xr.open_dataset(path+\"april_wind_early-late-climate_year.nc\").sel(lon=lonslice1,lat=slice(-5,5),lev=925)\n",
    "f2  =  xr.open_dataset(path+\"april_wind_early-late-climate_year.nc\").sel(lon=lonslice2,lat=slice(-5,5),lev=925)\n",
    "\n",
    "index_89  =  np.average(np.average(f1.climate_v,axis=1),axis=1)\n",
    "index_56  =  np.average(np.average(f2.climate_v,axis=1),axis=1)\n",
    "\n",
    "with open(\"/home/sun/data/onsetdate.json\",'r') as load_f:\n",
    "    a = json.load(load_f)\n",
    "\n",
    "year = np.array(list(a.keys()))    ;  year  =  year.astype(int)\n",
    "day  = np.array(list(a.values()))  ;  day   =  day.astype(int)\n",
    "\n",
    "import pandas as pd\n",
    "\n",
    "data = pd.DataFrame({'BOBSM onset date':day,'index_56_march':index_56,'index_89_march':index_89})\n",
    "\n",
    "print(data.corr())\n",
    "\n",
    "import scipy.stats as stats\n",
    "print(stats.pearsonr(data['BOBSM onset date'],data['index_56_march']))\n",
    "print(stats.pearsonr(data['BOBSM onset date'],data['index_89_march']))\n",
    "print(stats.pearsonr(data['index_56_march'],data['index_89_march']))"
   ]
  },
  {
   "cell_type": "code",
   "execution_count": 21,
   "id": "5a730a49-3296-42d7-945b-2c6dbe9e57a9",
   "metadata": {},
   "outputs": [
    {
     "name": "stderr",
     "output_type": "stream",
     "text": [
      "/tmp/ipykernel_219042/114174986.py:2: DeprecationWarning: `np.str` is a deprecated alias for the builtin `str`. To silence this warning, use `str` by itself. Doing this will not modify any behavior and is safe. If you specifically wanted the numpy scalar type, use `np.str_` here.\n",
      "Deprecated in NumPy 1.20; for more details and guidance: https://numpy.org/devdocs/release/1.20.0-notes.html#deprecations\n",
      "  a  =  np.zeros(40,dtype=int).astype(dtype=np.str) ; a[:]  =  'grey'\n"
     ]
    },
    {
     "data": {
      "image/png": "[encoded data removed]",
      "text/plain": [
       "<Figure size 432x288 with 1 Axes>"
      ]
     },
     "metadata": {
      "needs_background": "light"
     },
     "output_type": "display_data"
    }
   ],
   "source": [
    "# 筛选 晚年用红色，早年用蓝色\n",
    "a  =  np.zeros(40,dtype=int).astype(dtype=np.str) ; a[:]  =  'grey'\n",
    "color_list  =  a.tolist()#  ;  color_list[:]  =  'grey'\n",
    "\n",
    "for i in range(0,40):\n",
    "    if day[i] < np.mean(day) - np.std(day):\n",
    "        color_list[i]  =  'blue'\n",
    "    if day[i] > np.mean(day) + np.std(day):\n",
    "        color_list[i]  =  'red'\n",
    "        \n",
    "from matplotlib.ticker import (MultipleLocator, FormatStrFormatter,\n",
    "                               AutoMinorLocator)\n",
    "\n",
    "# 设置y轴\n",
    "y_label  =  ['10Apr','15Apr','20Apr','25Apr','1May','5May','10May','15May','20May']\n",
    "\n",
    "fig,axs  =  plt.subplots(tight_layout=True)\n",
    "\n",
    "# axs.set_yticks(np.arange(90, 160,10))\n",
    "\n",
    "axs.bar(year,day-120,width=1,color=color_list,edgecolor='black')\n",
    "# 刻度设置\n",
    "axs.set_xlim(1979,2020)\n",
    "axs.xaxis.set_major_locator(MultipleLocator(5))\n",
    "axs.xaxis.set_minor_locator(MultipleLocator(1))\n",
    "\n",
    "axs.set_yticks(np.arange(-20,25,5))\n",
    "axs.set_yticklabels(y_label)\n",
    "\n",
    "axs.plot([1979,2020],[0,0],color='black')\n",
    "axs.plot([1979,2020],[np.ceil(np.mean(day)-np.std(day))-120,np.ceil(np.mean(day)-np.std(day))-120],color='k',linestyle='dashed')\n",
    "axs.plot([1979,2020],[np.floor(np.mean(day)+np.std(day))-120,np.floor(np.mean(day)+np.std(day))-120],color='k',linestyle='dashed')\n",
    "\n",
    "axs.set_aspect(0.5)\n",
    "\n",
    "plt.savefig('/home/sun/paint/lunwen/bob_time_seris.pdf',dpi=2000)\n",
    "\n",
    "plt.show()"
   ]
  },
  {
   "cell_type": "code",
   "execution_count": 62,
   "id": "6b29333f-d712-4c05-bc88-40945f793612",
   "metadata": {},
   "outputs": [
    {
     "name": "stderr",
     "output_type": "stream",
     "text": [
      "/tmp/ipykernel_219042/3392926762.py:13: DeprecationWarning: `np.int` is a deprecated alias for the builtin `int`. To silence this warning, use `int` by itself. Doing this will not modify any behavior and is safe. When replacing `np.int`, you may wish to use e.g. `np.int64` or `np.int32` to specify the precision. If you wish to review your current use, check the release note link for additional information.\n",
      "Deprecated in NumPy 1.20; for more details and guidance: https://numpy.org/devdocs/release/1.20.0-notes.html#deprecations\n",
      "  early_years = early_years.astype(np.int)\n",
      "/tmp/ipykernel_219042/3392926762.py:14: DeprecationWarning: `np.int` is a deprecated alias for the builtin `int`. To silence this warning, use `int` by itself. Doing this will not modify any behavior and is safe. When replacing `np.int`, you may wish to use e.g. `np.int64` or `np.int32` to specify the precision. If you wish to review your current use, check the release note link for additional information.\n",
      "Deprecated in NumPy 1.20; for more details and guidance: https://numpy.org/devdocs/release/1.20.0-notes.html#deprecations\n",
      "  early_days = early_days.astype(np.int)\n",
      "/tmp/ipykernel_219042/3392926762.py:20: DeprecationWarning: `np.int` is a deprecated alias for the builtin `int`. To silence this warning, use `int` by itself. Doing this will not modify any behavior and is safe. When replacing `np.int`, you may wish to use e.g. `np.int64` or `np.int32` to specify the precision. If you wish to review your current use, check the release note link for additional information.\n",
      "Deprecated in NumPy 1.20; for more details and guidance: https://numpy.org/devdocs/release/1.20.0-notes.html#deprecations\n",
      "  late_years = late_years.astype(np.int)\n",
      "/tmp/ipykernel_219042/3392926762.py:21: DeprecationWarning: `np.int` is a deprecated alias for the builtin `int`. To silence this warning, use `int` by itself. Doing this will not modify any behavior and is safe. When replacing `np.int`, you may wish to use e.g. `np.int64` or `np.int32` to specify the precision. If you wish to review your current use, check the release note link for additional information.\n",
      "Deprecated in NumPy 1.20; for more details and guidance: https://numpy.org/devdocs/release/1.20.0-notes.html#deprecations\n",
      "  late_days = late_days.astype(np.int)\n"
     ]
    },
    {
     "data": {
      "text/html": [
       "<div>\n",
       "<style scoped>\n",
       "    .dataframe tbody tr th:only-of-type {\n",
       "        vertical-align: middle;\n",
       "    }\n",
       "\n",
       "    .dataframe tbody tr th {\n",
       "        vertical-align: top;\n",
       "    }\n",
       "\n",
       "    .dataframe thead th {\n",
       "        text-align: right;\n",
       "    }\n",
       "</style>\n",
       "<table border=\"1\" class=\"dataframe\">\n",
       "  <thead>\n",
       "    <tr style=\"text-align: right;\">\n",
       "      <th></th>\n",
       "      <th>A</th>\n",
       "      <th>B</th>\n",
       "      <th>C</th>\n",
       "    </tr>\n",
       "  </thead>\n",
       "  <tbody>\n",
       "    <tr>\n",
       "      <th>A</th>\n",
       "      <td>1.000000</td>\n",
       "      <td>0.379477</td>\n",
       "      <td>-0.341140</td>\n",
       "    </tr>\n",
       "    <tr>\n",
       "      <th>B</th>\n",
       "      <td>0.379477</td>\n",
       "      <td>1.000000</td>\n",
       "      <td>0.479475</td>\n",
       "    </tr>\n",
       "    <tr>\n",
       "      <th>C</th>\n",
       "      <td>-0.341140</td>\n",
       "      <td>0.479475</td>\n",
       "      <td>1.000000</td>\n",
       "    </tr>\n",
       "  </tbody>\n",
       "</table>\n",
       "</div>"
      ],
      "text/plain": [
       "          A         B         C\n",
       "A  1.000000  0.379477 -0.341140\n",
       "B  0.379477  1.000000  0.479475\n",
       "C -0.341140  0.479475  1.000000"
      ]
     },
     "execution_count": 62,
     "metadata": {},
     "output_type": "execute_result"
    }
   ],
   "source": [
    "path  =  \"/home/sun/qomo-data/\"\n",
    "lonslice1  =  slice(80,90)\n",
    "lonslice2  =  slice(50,60)\n",
    "\n",
    "f1  =  xr.open_dataset(path+\"march_wind_early-late-climate_year.nc\").sel(lon=lonslice1,lat=slice(-5,5),lev=925)\n",
    "f2  =  xr.open_dataset(path+\"march_wind_early-late-climate_year.nc\").sel(lon=lonslice2,lat=slice(-5,5),lev=925)\n",
    "\n",
    "#获取时间\n",
    "with open(\"/home/sun/qomo-data/early_date.json\",'r') as load_f:\n",
    "    a = json.load(load_f)\n",
    "early_years = np.array(list(a.keys()))\n",
    "early_days = np.array(list(a.values()))\n",
    "early_years = early_years.astype(np.int)\n",
    "early_days = early_days.astype(np.int)\n",
    "\n",
    "with open(\"/home/sun/qomo-data/late_date.json\",'r') as load_f:\n",
    "    a = json.load(load_f)\n",
    "late_years = np.array(list(a.keys()))\n",
    "late_days = np.array(list(a.values()))\n",
    "late_years = late_years.astype(np.int)\n",
    "late_days = late_days.astype(np.int)\n",
    "\n",
    "index_89  =  np.average(np.average(f1.early_v,axis=1),axis=1)\n",
    "index_56  =  np.average(np.average(f2.early_v,axis=1),axis=1)\n",
    "\n",
    "\n",
    "import pandas as pd\n",
    "\n",
    "data = pd.DataFrame({'A':early_days,'B':index_56,'C':index_89})\n",
    "\n",
    "data.corr()\n",
    "\n"
   ]
  },
  {
   "cell_type": "code",
   "execution_count": 63,
   "id": "b12289ef-4998-4bf6-b275-73336ded6983",
   "metadata": {},
   "outputs": [
    {
     "data": {
      "text/plain": [
       "(-0.3411395647658747, 0.4082564012437724)"
      ]
     },
     "execution_count": 63,
     "metadata": {},
     "output_type": "execute_result"
    }
   ],
   "source": [
    "import scipy.stats as stats\n",
    "#stats.pearsonr(data['A'],data['B'])\n",
    "stats.pearsonr(data['A'],data['C'])"
   ]
  },
  {
   "cell_type": "code",
   "execution_count": 56,
   "id": "741276d2-da51-4cb9-b211-f2fd03d66505",
   "metadata": {},
   "outputs": [
    {
     "data": {
      "text/html": [
       "<div>\n",
       "<style scoped>\n",
       "    .dataframe tbody tr th:only-of-type {\n",
       "        vertical-align: middle;\n",
       "    }\n",
       "\n",
       "    .dataframe tbody tr th {\n",
       "        vertical-align: top;\n",
       "    }\n",
       "\n",
       "    .dataframe thead th {\n",
       "        text-align: right;\n",
       "    }\n",
       "</style>\n",
       "<table border=\"1\" class=\"dataframe\">\n",
       "  <thead>\n",
       "    <tr style=\"text-align: right;\">\n",
       "      <th></th>\n",
       "      <th>A</th>\n",
       "      <th>B</th>\n",
       "      <th>C</th>\n",
       "    </tr>\n",
       "  </thead>\n",
       "  <tbody>\n",
       "    <tr>\n",
       "      <th>0</th>\n",
       "      <td>104</td>\n",
       "      <td>-1.744497</td>\n",
       "      <td>0.068533</td>\n",
       "    </tr>\n",
       "    <tr>\n",
       "      <th>1</th>\n",
       "      <td>107</td>\n",
       "      <td>-0.954506</td>\n",
       "      <td>0.483870</td>\n",
       "    </tr>\n",
       "    <tr>\n",
       "      <th>2</th>\n",
       "      <td>113</td>\n",
       "      <td>-1.399134</td>\n",
       "      <td>-0.044942</td>\n",
       "    </tr>\n",
       "    <tr>\n",
       "      <th>3</th>\n",
       "      <td>99</td>\n",
       "      <td>-2.713472</td>\n",
       "      <td>-0.328852</td>\n",
       "    </tr>\n",
       "    <tr>\n",
       "      <th>4</th>\n",
       "      <td>102</td>\n",
       "      <td>-2.938820</td>\n",
       "      <td>-0.890749</td>\n",
       "    </tr>\n",
       "    <tr>\n",
       "      <th>5</th>\n",
       "      <td>101</td>\n",
       "      <td>-2.874269</td>\n",
       "      <td>-1.398063</td>\n",
       "    </tr>\n",
       "    <tr>\n",
       "      <th>6</th>\n",
       "      <td>112</td>\n",
       "      <td>-3.052979</td>\n",
       "      <td>-0.999999</td>\n",
       "    </tr>\n",
       "    <tr>\n",
       "      <th>7</th>\n",
       "      <td>105</td>\n",
       "      <td>-2.572968</td>\n",
       "      <td>-0.208912</td>\n",
       "    </tr>\n",
       "  </tbody>\n",
       "</table>\n",
       "</div>"
      ],
      "text/plain": [
       "     A         B         C\n",
       "0  104 -1.744497  0.068533\n",
       "1  107 -0.954506  0.483870\n",
       "2  113 -1.399134 -0.044942\n",
       "3   99 -2.713472 -0.328852\n",
       "4  102 -2.938820 -0.890749\n",
       "5  101 -2.874269 -1.398063\n",
       "6  112 -3.052979 -0.999999\n",
       "7  105 -2.572968 -0.208912"
      ]
     },
     "execution_count": 56,
     "metadata": {},
     "output_type": "execute_result"
    }
   ],
   "source": [
    "data"
   ]
  },
  {
   "cell_type": "code",
   "execution_count": 57,
   "id": "bd4f7079-dc22-4f96-9188-9129fdda3fe0",
   "metadata": {},
   "outputs": [
    {
     "data": {
      "text/plain": [
       "(0.3794768632903692, 0.3538370702796788)"
      ]
     },
     "execution_count": 57,
     "metadata": {},
     "output_type": "execute_result"
    }
   ],
   "source": [
    "stats.pearsonr(data['A'],data['B'])"
   ]
  },
  {
   "cell_type": "code",
   "execution_count": 58,
   "id": "d5c50415-0793-4cba-8a30-f126be9b9038",
   "metadata": {},
   "outputs": [
    {
     "data": {
      "text/plain": [
       "(0.2265059623132933, 0.5896038390720396)"
      ]
     },
     "execution_count": 58,
     "metadata": {},
     "output_type": "execute_result"
    }
   ],
   "source": [
    "stats.pearsonr(data['A'],data['C'])"
   ]
  },
  {
   "cell_type": "code",
   "execution_count": 59,
   "id": "d28f35dc-6f45-4b26-baed-f69fc1554505",
   "metadata": {},
   "outputs": [
    {
     "name": "stderr",
     "output_type": "stream",
     "text": [
      "/tmp/ipykernel_219042/3805067791.py:13: DeprecationWarning: `np.int` is a deprecated alias for the builtin `int`. To silence this warning, use `int` by itself. Doing this will not modify any behavior and is safe. When replacing `np.int`, you may wish to use e.g. `np.int64` or `np.int32` to specify the precision. If you wish to review your current use, check the release note link for additional information.\n",
      "Deprecated in NumPy 1.20; for more details and guidance: https://numpy.org/devdocs/release/1.20.0-notes.html#deprecations\n",
      "  early_years = early_years.astype(np.int)\n",
      "/tmp/ipykernel_219042/3805067791.py:14: DeprecationWarning: `np.int` is a deprecated alias for the builtin `int`. To silence this warning, use `int` by itself. Doing this will not modify any behavior and is safe. When replacing `np.int`, you may wish to use e.g. `np.int64` or `np.int32` to specify the precision. If you wish to review your current use, check the release note link for additional information.\n",
      "Deprecated in NumPy 1.20; for more details and guidance: https://numpy.org/devdocs/release/1.20.0-notes.html#deprecations\n",
      "  early_days = early_days.astype(np.int)\n",
      "/tmp/ipykernel_219042/3805067791.py:20: DeprecationWarning: `np.int` is a deprecated alias for the builtin `int`. To silence this warning, use `int` by itself. Doing this will not modify any behavior and is safe. When replacing `np.int`, you may wish to use e.g. `np.int64` or `np.int32` to specify the precision. If you wish to review your current use, check the release note link for additional information.\n",
      "Deprecated in NumPy 1.20; for more details and guidance: https://numpy.org/devdocs/release/1.20.0-notes.html#deprecations\n",
      "  late_years = late_years.astype(np.int)\n",
      "/tmp/ipykernel_219042/3805067791.py:21: DeprecationWarning: `np.int` is a deprecated alias for the builtin `int`. To silence this warning, use `int` by itself. Doing this will not modify any behavior and is safe. When replacing `np.int`, you may wish to use e.g. `np.int64` or `np.int32` to specify the precision. If you wish to review your current use, check the release note link for additional information.\n",
      "Deprecated in NumPy 1.20; for more details and guidance: https://numpy.org/devdocs/release/1.20.0-notes.html#deprecations\n",
      "  late_days = late_days.astype(np.int)\n"
     ]
    },
    {
     "data": {
      "text/html": [
       "<div>\n",
       "<style scoped>\n",
       "    .dataframe tbody tr th:only-of-type {\n",
       "        vertical-align: middle;\n",
       "    }\n",
       "\n",
       "    .dataframe tbody tr th {\n",
       "        vertical-align: top;\n",
       "    }\n",
       "\n",
       "    .dataframe thead th {\n",
       "        text-align: right;\n",
       "    }\n",
       "</style>\n",
       "<table border=\"1\" class=\"dataframe\">\n",
       "  <thead>\n",
       "    <tr style=\"text-align: right;\">\n",
       "      <th></th>\n",
       "      <th>A</th>\n",
       "      <th>B</th>\n",
       "      <th>C</th>\n",
       "    </tr>\n",
       "  </thead>\n",
       "  <tbody>\n",
       "    <tr>\n",
       "      <th>A</th>\n",
       "      <td>1.000000</td>\n",
       "      <td>0.165531</td>\n",
       "      <td>0.134239</td>\n",
       "    </tr>\n",
       "    <tr>\n",
       "      <th>B</th>\n",
       "      <td>0.165531</td>\n",
       "      <td>1.000000</td>\n",
       "      <td>0.475425</td>\n",
       "    </tr>\n",
       "    <tr>\n",
       "      <th>C</th>\n",
       "      <td>0.134239</td>\n",
       "      <td>0.475425</td>\n",
       "      <td>1.000000</td>\n",
       "    </tr>\n",
       "  </tbody>\n",
       "</table>\n",
       "</div>"
      ],
      "text/plain": [
       "          A         B         C\n",
       "A  1.000000  0.165531  0.134239\n",
       "B  0.165531  1.000000  0.475425\n",
       "C  0.134239  0.475425  1.000000"
      ]
     },
     "execution_count": 59,
     "metadata": {},
     "output_type": "execute_result"
    }
   ],
   "source": [
    "path  =  \"/home/sun/qomo-data/\"\n",
    "lonslice1  =  slice(75,85)\n",
    "lonslice2  =  slice(50,60)\n",
    "\n",
    "f1  =  xr.open_dataset(path+\"march_wind_early-late-climate_year.nc\").sel(lon=lonslice1,lat=slice(-5,5),lev=925)\n",
    "f2  =  xr.open_dataset(path+\"march_wind_early-late-climate_year.nc\").sel(lon=lonslice2,lat=slice(-5,5),lev=925)\n",
    "\n",
    "#获取时间\n",
    "with open(\"/home/sun/qomo-data/early_date.json\",'r') as load_f:\n",
    "    a = json.load(load_f)\n",
    "early_years = np.array(list(a.keys()))\n",
    "early_days = np.array(list(a.values()))\n",
    "early_years = early_years.astype(np.int)\n",
    "early_days = early_days.astype(np.int)\n",
    "\n",
    "with open(\"/home/sun/qomo-data/late_date.json\",'r') as load_f:\n",
    "    a = json.load(load_f)\n",
    "late_years = np.array(list(a.keys()))\n",
    "late_days = np.array(list(a.values()))\n",
    "late_years = late_years.astype(np.int)\n",
    "late_days = late_days.astype(np.int)\n",
    "\n",
    "index_89  =  np.average(np.average(f1.late_v,axis=1),axis=1)\n",
    "index_56  =  np.average(np.average(f2.late_v,axis=1),axis=1)\n",
    "\n",
    "\n",
    "import pandas as pd\n",
    "\n",
    "data = pd.DataFrame({'A':late_days,'B':index_56,'C':index_89})\n",
    "\n",
    "data.corr()\n",
    "\n"
   ]
  },
  {
   "cell_type": "code",
   "execution_count": 60,
   "id": "c0bd5565-f866-48d7-8bd9-3dbc37c79ff3",
   "metadata": {},
   "outputs": [
    {
     "data": {
      "text/plain": [
       "(0.16553089284116382, 0.6071590928618869)"
      ]
     },
     "execution_count": 60,
     "metadata": {},
     "output_type": "execute_result"
    }
   ],
   "source": [
    "stats.pearsonr(data['A'],data['B'])"
   ]
  },
  {
   "cell_type": "code",
   "execution_count": 61,
   "id": "115df2b8-52c6-4971-bdf1-c10504b4d634",
   "metadata": {},
   "outputs": [
    {
     "data": {
      "text/plain": [
       "(0.13423885901661353, 0.6774562540394589)"
      ]
     },
     "execution_count": 61,
     "metadata": {},
     "output_type": "execute_result"
    }
   ],
   "source": [
    "stats.pearsonr(data['A'],data['C'])"
   ]
  },
  {
   "cell_type": "code",
   "execution_count": null,
   "id": "ca4390a5-3fe8-4e37-af74-9c32f106b98b",
   "metadata": {},
   "outputs": [],
   "source": []
  }
 ],
 "metadata": {
  "kernelspec": {
   "display_name": "Python 3 (ipykernel)",
   "language": "python",
   "name": "python3"
  },
  "language_info": {
   "codemirror_mode": {
    "name": "ipython",
    "version": 3
   },
   "file_extension": ".py",
   "mimetype": "text/x-python",
   "name": "python",
   "nbconvert_exporter": "python",
   "pygments_lexer": "ipython3",
   "version": "3.9.6"
  }
 },
 "nbformat": 4,
 "nbformat_minor": 5
}
