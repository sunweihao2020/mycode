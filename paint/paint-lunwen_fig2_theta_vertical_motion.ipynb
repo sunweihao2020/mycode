{
 "cells": [
  {
   "cell_type": "markdown",
   "id": "0808d147-dc75-4337-b999-5ba8e20be86f",
   "metadata": {},
   "source": [
    "# 2021/11/30\n",
    "# 本代码为论文中的第二张图\n",
    "# 等theta面和垂直运动"
   ]
  },
  {
   "cell_type": "code",
   "execution_count": 6,
   "id": "9a46a3f9-3ff2-420d-9c9e-b873d2a19e44",
   "metadata": {
    "tags": []
   },
   "outputs": [],
   "source": [
    "import os\n",
    "import sys\n",
    "import xarray as xr\n",
    "import numpy as np\n",
    "module_path = [\"/home/sun/mycode/module/\",\"/data5/2019swh/mycode/module/\"]\n",
    "sys.path.append(module_path[0])\n",
    "from module_sun import *\n",
    "import cartopy.crs as ccrs\n",
    "import cartopy.feature as cfeature\n",
    "import matplotlib.pyplot as plt\n",
    "from metpy.units import units\n",
    "from matplotlib.path import Path\n",
    "import matplotlib.patches as patches"
   ]
  },
  {
   "cell_type": "code",
   "execution_count": 7,
   "id": "28df299d-a4bc-4dc7-8628-ac6d1c740a72",
   "metadata": {},
   "outputs": [],
   "source": [
    "path =   \"/home/sun/qomo-data/\"\n",
    "lon_slice  =  slice(50,120)\n",
    "lat_slice  =  slice(10,15)\n",
    "lev_slice  =  slice(1000,100)\n",
    "\n",
    "f1   =   xr.open_dataset(path+\"composite_equivalent_tem.nc\").sel(lon=lon_slice,lat=lat_slice,level=lev_slice).isel(time=slice(0,30))\n",
    "\n",
    "theta1      =  f1.theate_e\n",
    "avg_theta   =  np.average(np.average(theta1,axis=0),axis=1)\n",
    "\n",
    "f2     =  xr.open_dataset(\"/home/sun/qomo-data/composite3.nc\").sel(lat=slice(10,15),lon=slice(60,110),level=lev_slice)\n",
    "uwind  =  np.average(np.average(f2.uwind[0:30],axis=0),axis=1)\n",
    "vwind  =  np.average(np.average(f2.vwind[0:30],axis=0),axis=1)\n",
    "omega  =  np.average(np.average(f2.OMEGA[0:30],axis=0),axis=1)*-60"
   ]
  },
  {
   "cell_type": "code",
   "execution_count": 13,
   "id": "8a9b30f3-ebc7-4816-a6be-fbf092befb10",
   "metadata": {},
   "outputs": [
    {
     "ename": "TypeError",
     "evalue": "only size-1 arrays can be converted to Python scalars",
     "output_type": "error",
     "traceback": [
      "\u001b[0;31m---------------------------------------------------------------------------\u001b[0m",
      "\u001b[0;31mTypeError\u001b[0m                                 Traceback (most recent call last)",
      "\u001b[0;32m/tmp/ipykernel_3259202/3957691011.py\u001b[0m in \u001b[0;36m<module>\u001b[0;34m\u001b[0m\n\u001b[1;32m      2\u001b[0m \u001b[0max\u001b[0m \u001b[0;34m=\u001b[0m \u001b[0mfig\u001b[0m\u001b[0;34m.\u001b[0m\u001b[0madd_subplot\u001b[0m\u001b[0;34m(\u001b[0m\u001b[0;36m111\u001b[0m\u001b[0;34m)\u001b[0m\u001b[0;34m\u001b[0m\u001b[0;34m\u001b[0m\u001b[0m\n\u001b[1;32m      3\u001b[0m \u001b[0;34m\u001b[0m\u001b[0m\n\u001b[0;32m----> 4\u001b[0;31m ax.streamplot(f2.lon.data, math.log(np.linspace(1,25,25)), \n\u001b[0m\u001b[1;32m      5\u001b[0m               \u001b[0muwind\u001b[0m\u001b[0;34m,\u001b[0m \u001b[0momega\u001b[0m\u001b[0;34m,\u001b[0m\u001b[0;34m\u001b[0m\u001b[0;34m\u001b[0m\u001b[0m\n\u001b[1;32m      6\u001b[0m               \u001b[0mcolor\u001b[0m\u001b[0;34m=\u001b[0m\u001b[0;34m'k'\u001b[0m\u001b[0;34m,\u001b[0m\u001b[0mlinewidth\u001b[0m\u001b[0;34m=\u001b[0m\u001b[0;36m1.1\u001b[0m\u001b[0;34m,\u001b[0m\u001b[0marrowstyle\u001b[0m\u001b[0;34m=\u001b[0m\u001b[0;34m'->'\u001b[0m\u001b[0;34m,\u001b[0m\u001b[0;34m\u001b[0m\u001b[0;34m\u001b[0m\u001b[0m\n",
      "\u001b[0;31mTypeError\u001b[0m: only size-1 arrays can be converted to Python scalars"
     ]
    },
    {
     "data": {
      "image/png": "[encoded data removed]",
      "text/plain": [
       "<Figure size 504x360 with 1 Axes>"
      ]
     },
     "metadata": {
      "needs_background": "light"
     },
     "output_type": "display_data"
    }
   ],
   "source": [
    "fig = plt.figure(figsize=(7,5))\n",
    "ax = fig.add_subplot(111)\n",
    "\n",
    "ax.streamplot(f2.lon.data, math.log(np.linspace(1,25,25)), \n",
    "              uwind, omega, \n",
    "              color='k',linewidth=1.1,arrowstyle='->',\n",
    "              density=2)\n",
    "\n"
   ]
  },
  {
   "cell_type": "code",
   "execution_count": 14,
   "id": "21051db5-c158-4b9c-8ab8-fb82414a9cf8",
   "metadata": {},
   "outputs": [
    {
     "ename": "TypeError",
     "evalue": "only size-1 arrays can be converted to Python scalars",
     "output_type": "error",
     "traceback": [
      "\u001b[0;31m---------------------------------------------------------------------------\u001b[0m",
      "\u001b[0;31mTypeError\u001b[0m                                 Traceback (most recent call last)",
      "\u001b[0;32m/tmp/ipykernel_3259202/1224022369.py\u001b[0m in \u001b[0;36m<module>\u001b[0;34m\u001b[0m\n\u001b[0;32m----> 1\u001b[0;31m \u001b[0mmath\u001b[0m\u001b[0;34m.\u001b[0m\u001b[0mlog\u001b[0m\u001b[0;34m(\u001b[0m\u001b[0mnp\u001b[0m\u001b[0;34m.\u001b[0m\u001b[0mlinspace\u001b[0m\u001b[0;34m(\u001b[0m\u001b[0;36m1\u001b[0m\u001b[0;34m,\u001b[0m\u001b[0;36m25\u001b[0m\u001b[0;34m,\u001b[0m\u001b[0;36m25\u001b[0m\u001b[0;34m)\u001b[0m\u001b[0;34m)\u001b[0m\u001b[0;34m\u001b[0m\u001b[0;34m\u001b[0m\u001b[0m\n\u001b[0m",
      "\u001b[0;31mTypeError\u001b[0m: only size-1 arrays can be converted to Python scalars"
     ]
    }
   ],
   "source": [
    "math.log(np.linspace(1,25,25))"
   ]
  },
  {
   "cell_type": "code",
   "execution_count": 15,
   "id": "8c1df44f-4375-4f8a-b78b-45efc9d562db",
   "metadata": {},
   "outputs": [
    {
     "data": {
      "text/plain": [
       "-0.6931471805599453"
      ]
     },
     "execution_count": 15,
     "metadata": {},
     "output_type": "execute_result"
    }
   ],
   "source": [
    "math.log(0.5)"
   ]
  },
  {
   "cell_type": "code",
   "execution_count": null,
   "id": "71c42f63-b64d-4f05-aa41-0571d25527d1",
   "metadata": {},
   "outputs": [],
   "source": []
  }
 ],
 "metadata": {
  "kernelspec": {
   "display_name": "Python 3 (ipykernel)",
   "language": "python",
   "name": "python3"
  },
  "language_info": {
   "codemirror_mode": {
    "name": "ipython",
    "version": 3
   },
   "file_extension": ".py",
   "mimetype": "text/x-python",
   "name": "python",
   "nbconvert_exporter": "python",
   "pygments_lexer": "ipython3",
   "version": "3.9.12"
  }
 },
 "nbformat": 4,
 "nbformat_minor": 5
}
