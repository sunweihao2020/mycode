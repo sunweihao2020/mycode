{
 "cells": [
  {
   "cell_type": "markdown",
   "id": "ba408566-a28a-43c4-b4e3-3f27cd8717af",
   "metadata": {},
   "source": [
    "# 2021/12/25\n",
    "# 本代码绘制一下孟湾东部区域平均的降水之差\n",
    "# trmm和control实验"
   ]
  },
  {
   "cell_type": "code",
   "execution_count": 1,
   "id": "297498c9-85a3-40cd-92f3-7fcf04a6f188",
   "metadata": {},
   "outputs": [],
   "source": [
    "import cartopy.crs as ccrs\n",
    "import cartopy.feature as cfeature\n",
    "import matplotlib.gridspec as gridspec\n",
    "import matplotlib.pyplot as plt\n",
    "import metpy.calc as mpcalc\n",
    "import numpy as np\n",
    "import xarray as xr\n",
    "import sys\n",
    "import matplotlib as mpl\n",
    "\n",
    "sys.path.append(\"/home/sun/mycode/module/\")\n",
    "from module_sun import *"
   ]
  },
  {
   "cell_type": "code",
   "execution_count": 2,
   "id": "039f17aa-9295-42c1-b4c1-8d1f88fd513d",
   "metadata": {},
   "outputs": [],
   "source": [
    "path  =  \"/home/sun/qomo-data/\"\n",
    "lon_slice  =  slice(90,100)\n",
    "lat_slice  =  slice(10,20)\n",
    "\n",
    "f2 =  xr.open_dataset(path+\"zhuang_plev/pentad_average/plev_pentad_con_prect.nc\").sel(lon=lon_slice,lat=lat_slice)"
   ]
  },
  {
   "cell_type": "markdown",
   "id": "7fc3883e-9bf3-4f16-a054-cbc68e3ef1fc",
   "metadata": {},
   "source": [
    "## 把气候态的trmm降水求个全年平均\n",
    "## 原本是单独文件"
   ]
  },
  {
   "cell_type": "code",
   "execution_count": 11,
   "id": "80144d5d-5bce-4e85-ac25-0e585f4854fa",
   "metadata": {},
   "outputs": [],
   "source": [
    "path2  =  \"/home/sun/qomo-data/year_mean/trmm_98_19/\"\n",
    "list2  =  os.listdir(path2)  ;  list2.sort()\n",
    "f0     =  xr.open_dataset(path2+list2[0])\n",
    "year_trmm  =  np.zeros((365,len(f0.lon),len(f0.lat)))\n",
    "for i in range(0,len(list2)):\n",
    "    ff1  =  xr.open_dataset(path2+list2[i])\n",
    "    year_trmm[i,:]  =  ff1.precipitation.data\n",
    "\n",
    "\n",
    "ncfile  =  xr.Dataset(\n",
    "    {\n",
    "        \"precipitation\": ([\"time\", \"lon\", \"lat\"], year_trmm),\n",
    "    },\n",
    "    coords={\n",
    "        \"lon\": ([\"lon\"], f0.lon.data),\n",
    "        \"lat\": ([\"lat\"], f0.lat.data),\n",
    "        \"time\": ([\"time\"], np.linspace(1,365,365)),\n",
    "    },\n",
    ")\n",
    "ncfile.precipitation.attrs  =  f0.variables[\"precipitation\"].attrs\n",
    "ncfile[\"lat\"].attrs  =  f0.lat.attrs\n",
    "ncfile[\"lon\"].attrs  =  f0.lon.attrs\n",
    "ncfile.to_netcdf(\"/home/sun/data/climate_year_trmm.nc\")"
   ]
  },
  {
   "cell_type": "markdown",
   "id": "12552f56-d72d-46bb-988a-6c34e8d5b68e",
   "metadata": {},
   "source": [
    "# 草稿区"
   ]
  },
  {
   "cell_type": "code",
   "execution_count": 10,
   "id": "b18d82f3-ebbb-4abf-9f22-376d67bb3d18",
   "metadata": {},
   "outputs": [
    {
     "data": {
      "text/plain": [
       "{'units': 'mm',\n",
       " 'long_name': 'Daily accumulated precipitation (combined microwave-IR) estimate with gauge calibration over land',\n",
       " 'origname': 'precipitation',\n",
       " 'fullnamepath': '/precipitation'}"
      ]
     },
     "execution_count": 10,
     "metadata": {},
     "output_type": "execute_result"
    }
   ],
   "source": []
  },
  {
   "cell_type": "code",
   "execution_count": null,
   "id": "75c6e969-34e2-430f-bb65-aa9fb4201dc0",
   "metadata": {},
   "outputs": [],
   "source": []
  }
 ],
 "metadata": {
  "kernelspec": {
   "display_name": "Python 3 (ipykernel)",
   "language": "python",
   "name": "python3"
  },
  "language_info": {
   "codemirror_mode": {
    "name": "ipython",
    "version": 3
   },
   "file_extension": ".py",
   "mimetype": "text/x-python",
   "name": "python",
   "nbconvert_exporter": "python",
   "pygments_lexer": "ipython3",
   "version": "3.9.6"
  }
 },
 "nbformat": 4,
 "nbformat_minor": 5
}
