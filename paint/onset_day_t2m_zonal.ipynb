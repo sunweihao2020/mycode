{
 "cells": [
  {
   "cell_type": "code",
   "execution_count": 1,
   "id": "9cca42af-4509-42a8-80cf-21ac7f88a155",
   "metadata": {},
   "outputs": [],
   "source": [
    "'''\n",
    "本代码使用模式数据来看爆发当日的纬向偏差\n",
    "'''\n",
    "import os\n",
    "import numpy as np\n",
    "import xarray as xr\n",
    "import json\n",
    "\n",
    "def query_bobsm_date(year):\n",
    "    '''本函数可以根据输入的year年份返回当年的爆发日期,year type is str'''\n",
    "    with open(\"/home/sun/data/onsetdate.json\",'r') as load_f:\n",
    "        ff  =  json.load(load_f)\n",
    "\n",
    "    return int(ff[year])\n",
    "\n",
    "def cal_zonal_t_gradient(year,lat_slice,lon_slice1,lon_slice2):\n",
    "    '''year is str'''\n",
    "    path1  =  \"/home/sun/mydown/swh_era5/land/daily/\"\n",
    "\n",
    "    # 获取季风爆发日期\n",
    "    d0  =  query_bobsm_date(year)\n",
    "\n",
    "    # 获取爆发当日的文件\n",
    "    #f1  =  np.nanmean(xr.open_dataset(path1 + year+\"_2m_temperature_land_monthly.nc\").sel(longitude=lon_slice1).isel(time=[d0-1]).t2m.data[0,70:75])\n",
    "    f1   =  np.average(xr.open_dataset(path1 + year+\"_2m_temperature_land_monthly.nc\").sel(longitude=lon_slice1).isel(time=[d0-1]).t2m.data[0,70:75])\n",
    "    f2   =  xr.open_dataset(path1 + year+\"_2m_temperature_land_monthly.nc\").isel(time=[d0-1]).t2m\n",
    "\n",
    "    return f2\n",
    "\n",
    "\n",
    "\n",
    "#print(cal_zonal_t_gradient(\"1999\",lat_slice=slice(15,20),lon_slice1=slice(75,80),lon_slice2=slice(90)))\n",
    "f = cal_zonal_t_gradient(\"1999\",lat_slice=slice(15,20),lon_slice1=slice(75,80),lon_slice2=slice(90))\n",
    "\n"
   ]
  },
  {
   "cell_type": "code",
   "execution_count": 4,
   "id": "1e334c4a-c5f6-4931-86de-dccbced85510",
   "metadata": {},
   "outputs": [
    {
     "data": {
      "text/plain": [
       "101"
      ]
     },
     "execution_count": 4,
     "metadata": {},
     "output_type": "execute_result"
    }
   ],
   "source": [
    "query_bobsm_date('2009')"
   ]
  },
  {
   "cell_type": "code",
   "execution_count": null,
   "id": "f3f5bac2-dffd-4c45-a8a2-3f5f8c04ae68",
   "metadata": {},
   "outputs": [],
   "source": []
  }
 ],
 "metadata": {
  "interpreter": {
   "hash": "6d80442a03a2753f0cf812235f87c74fc29a6138bed24c4d4616c2fd5e3a88c0"
  },
  "kernelspec": {
   "display_name": "Python 3 (ipykernel)",
   "language": "python",
   "name": "python3"
  },
  "language_info": {
   "codemirror_mode": {
    "name": "ipython",
    "version": 3
   },
   "file_extension": ".py",
   "mimetype": "text/x-python",
   "name": "python",
   "nbconvert_exporter": "python",
   "pygments_lexer": "ipython3",
   "version": "3.9.12"
  }
 },
 "nbformat": 4,
 "nbformat_minor": 5
}
